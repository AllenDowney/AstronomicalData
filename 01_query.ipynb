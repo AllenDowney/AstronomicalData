{
 "cells": [
  {
   "cell_type": "markdown",
   "metadata": {},
   "source": [
    "# Chapter 1"
   ]
  },
  {
   "cell_type": "markdown",
   "metadata": {},
   "source": [
    "*Astronomical Data in Python* is an introduction to tools and practices for working with astronomical data.  Topics covered include:\n",
    "\n",
    "* Writing queries that select and download data from a database.\n",
    "\n",
    "* Using data stored in an Astropy `Table` or Pandas `DataFrame`.\n",
    "\n",
    "* Working with coordinates and other quantities with units.\n",
    "\n",
    "* Storing data in various formats.\n",
    "\n",
    "* Performing database join operations that combine data from multiple tables.\n",
    "\n",
    "* Visualizing data and preparing publication-quality figures."
   ]
  },
  {
   "cell_type": "markdown",
   "metadata": {},
   "source": [
    "As a running example, we will replicate part of the analysis in a recent paper, \"[Off the beaten path: Gaia reveals GD-1 stars outside of the main stream](https://arxiv.org/abs/1805.00425)\" by Adrian M. Price-Whelan and Ana Bonaca.\n",
    "\n",
    "As the abstract explains, \"Using data from the Gaia second data release combined with Pan-STARRS photometry, we present a sample of highly-probable members of the longest cold stream in the Milky Way, GD-1.\"\n",
    "\n",
    "GD-1 is a [stellar stream](https://en.wikipedia.org/wiki/List_of_stellar_streams), which is \"an association of stars orbiting a galaxy that was once a globular cluster or dwarf galaxy that has now been torn apart and stretched out along its orbit by tidal forces.\""
   ]
  },
  {
   "cell_type": "markdown",
   "metadata": {},
   "source": [
    "[This article in *Science* magazine](https://www.sciencemag.org/news/2018/10/streams-stars-reveal-galaxy-s-violent-history-and-perhaps-its-unseen-dark-matter) explains some of the background, including the process that led to the paper and a discussion of the scientific implications:\n",
    "\n",
    "* \"The streams are particularly useful for ... galactic archaeology --- rewinding the cosmic clock to reconstruct the assembly of the Milky Way.\"\n",
    "\n",
    "* \"They also are being used as exquisitely sensitive scales to measure the galaxy's mass.\"\n",
    "\n",
    "* \"... the streams are well-positioned to reveal the presence of dark matter ... because the streams are so fragile, theorists say, collisions with marauding clumps of dark matter could leave telltale scars, potential clues to its nature.\""
   ]
  },
  {
   "cell_type": "markdown",
   "metadata": {},
   "source": [
    "## Data\n",
    "\n",
    "The datasets we will work with are:\n",
    " \n",
    "* [Gaia](https://en.wikipedia.org/wiki/Gaia_(spacecraft)), which is \"a space observatory of the European Space Agency (ESA), launched in 2013 ... designed for astrometry: measuring the positions, distances and motions of stars with unprecedented precision\", and\n",
    "\n",
    "* [Pan-STARRS](https://en.wikipedia.org/wiki/Pan-STARRS), The Panoramic Survey Telescope and Rapid Response System, which is a survey designed to monitor the sky for transient objects, producing a catalog with accurate astronometry and photometry of detected sources.\n",
    "\n",
    "Both of these datasets are very large, which can make them challenging to work with.  It might not be possible, or practical, to download the entire dataset.\n",
    "One of the goals of this workshop is to provide tools for working with large datasets."
   ]
  },
  {
   "cell_type": "markdown",
   "metadata": {},
   "source": [
    "## Prerequisites\n",
    "\n",
    "These notebooks are meant for people who are familiar with basic Python, but not necessarily the libraries we will use, like Astropy or Pandas.  If you are familiar with Python lists and dictionaries, and you know how to write a function that takes parameters and returns a value, you know enough Python to get started.\n",
    "\n",
    "We assume that you have some familiarity with operating systems, like the ability to use a command-line interface.  But we don't assume you have any prior experience with databases.\n",
    "\n",
    "We assume that you are familiar with astronomy at the undergraduate level, but we will not assume specialized knowledge of the datasets or analysis methods we'll use. "
   ]
  },
  {
   "cell_type": "markdown",
   "metadata": {},
   "source": [
    "## Outline\n",
    "\n",
    "The first lesson demonstrates the steps for selecting and downloading data from the Gaia Database:\n",
    "\n",
    "1. First we'll make a connection to the Gaia server,\n",
    "\n",
    "2. We will explore information about the database and the tables it contains,\n",
    "\n",
    "3. We will write a query and send it to the server, and finally\n",
    "\n",
    "4. We will download the response from the server.\n",
    "\n",
    "After completing this lesson, you should be able to\n",
    "\n",
    "* Compose a basic query in ADQL.\n",
    "\n",
    "* Use queries to explore a database and its tables.\n",
    "\n",
    "* Use queries to download data.\n",
    "\n",
    "* Develop, test, and debug a query incrementally."
   ]
  },
  {
   "cell_type": "markdown",
   "metadata": {},
   "source": [
    "## Query Language\n",
    "\n",
    "In order to select data from a database, you have to compose a query, which is a program written in a \"query language\".\n",
    "The query language we'll use is ADQL, which stands for \"Astronomical Data Query Language\".\n",
    "\n",
    "ADQL is a dialect of [SQL](https://en.wikipedia.org/wiki/SQL) (Structured Query Language), which is by far the most commonly used query language.  Almost everything you will learn about ADQL also works in SQL.\n",
    "\n",
    "[The reference manual for ADQL is here](http://www.ivoa.net/documents/ADQL/20180112/PR-ADQL-2.1-20180112.html).\n",
    "But you might find it easier to learn from [this ADQL Cookbook](https://www.gaia.ac.uk/data/gaia-data-release-1/adql-cookbook)."
   ]
  },
  {
   "cell_type": "markdown",
   "metadata": {
    "tags": [
     "remove-cell"
    ]
   },
   "source": [
    "## Installing libraries\n",
    "\n",
    "If you are running this notebook on Colab, you can run the following cell to install Astroquery and the other libraries we'll use.\n",
    "\n",
    "If you are running this notebook on your own computer, you might have to install these libraries yourself.  See the instructions in the preface."
   ]
  },
  {
   "cell_type": "code",
   "execution_count": 1,
   "metadata": {
    "tags": [
     "remove-cell"
    ]
   },
   "outputs": [],
   "source": [
    "# If we're running on Colab, install libraries\n",
    "\n",
    "import sys\n",
    "IN_COLAB = 'google.colab' in sys.modules\n",
    "\n",
    "if IN_COLAB:\n",
    "    !pip install astroquery astro-gala pyia"
   ]
  },
  {
   "cell_type": "markdown",
   "metadata": {},
   "source": [
    "## Connecting to Gaia\n",
    "\n",
    "The library we'll use to get Gaia data is [Astroquery](https://astroquery.readthedocs.io/en/latest/).\n",
    "\n",
    "Astroquery provides `Gaia`, which is an [object that represents a connection to the Gaia database](https://astroquery.readthedocs.io/en/latest/gaia/gaia.html).\n",
    "\n",
    "We can connect to the Gaia database like this:"
   ]
  },
  {
   "cell_type": "code",
   "execution_count": 2,
   "metadata": {},
   "outputs": [
    {
     "name": "stdout",
     "output_type": "stream",
     "text": [
      "Created TAP+ (v1.2.1) - Connection:\n",
      "\tHost: gea.esac.esa.int\n",
      "\tUse HTTPS: True\n",
      "\tPort: 443\n",
      "\tSSL Port: 443\n",
      "Created TAP+ (v1.2.1) - Connection:\n",
      "\tHost: geadata.esac.esa.int\n",
      "\tUse HTTPS: True\n",
      "\tPort: 443\n",
      "\tSSL Port: 443\n"
     ]
    }
   ],
   "source": [
    "from astroquery.gaia import Gaia"
   ]
  },
  {
   "cell_type": "markdown",
   "metadata": {},
   "source": [
    "Running this import statement has the effect of creating a [TAP+](http://www.ivoa.net/documents/TAP/) connection; TAP stands for \"Table Access Protocol\".  It is a network protocol for sending queries to the database and getting back the results.  We're not sure why it seems to create two connections."
   ]
  },
  {
   "cell_type": "markdown",
   "metadata": {},
   "source": [
    "## Databases and Tables\n",
    "\n",
    "What is a database, anyway?  Most generally, it can be any collection of data, but when we are talking about ADQL or SQL:\n",
    "\n",
    "* A database is a collection of one or more named tables.\n",
    "\n",
    "* Each table is a 2-D array with one or more named columns of data.\n",
    "\n",
    "We can use `Gaia.load_tables` to get the names of the tables in the Gaia database.  With the option `only_names=True`, it loads information about the tables, called the \"metadata\", not the data itself."
   ]
  },
  {
   "cell_type": "code",
   "execution_count": 3,
   "metadata": {},
   "outputs": [
    {
     "name": "stdout",
     "output_type": "stream",
     "text": [
      "INFO: Retrieving tables... [astroquery.utils.tap.core]\n",
      "INFO: Parsing tables... [astroquery.utils.tap.core]\n",
      "INFO: Done. [astroquery.utils.tap.core]\n"
     ]
    }
   ],
   "source": [
    "tables = Gaia.load_tables(only_names=True)"
   ]
  },
  {
   "cell_type": "code",
   "execution_count": 4,
   "metadata": {
    "tags": [
     "hide-output"
    ]
   },
   "outputs": [
    {
     "name": "stdout",
     "output_type": "stream",
     "text": [
      "external.apassdr9\n",
      "external.gaiadr2_geometric_distance\n",
      "external.galex_ais\n",
      "external.ravedr5_com\n",
      "external.ravedr5_dr5\n",
      "external.ravedr5_gra\n",
      "external.ravedr5_on\n",
      "external.sdssdr13_photoprimary\n",
      "external.skymapperdr1_master\n",
      "external.tmass_xsc\n",
      "public.hipparcos\n",
      "public.hipparcos_newreduction\n",
      "public.hubble_sc\n",
      "public.igsl_source\n",
      "public.igsl_source_catalog_ids\n",
      "public.tycho2\n",
      "public.dual\n",
      "tap_config.coord_sys\n",
      "tap_config.properties\n",
      "tap_schema.columns\n",
      "tap_schema.key_columns\n",
      "tap_schema.keys\n",
      "tap_schema.schemas\n",
      "tap_schema.tables\n",
      "gaiadr1.aux_qso_icrf2_match\n",
      "gaiadr1.ext_phot_zero_point\n",
      "gaiadr1.allwise_best_neighbour\n",
      "gaiadr1.allwise_neighbourhood\n",
      "gaiadr1.gsc23_best_neighbour\n",
      "gaiadr1.gsc23_neighbourhood\n",
      "gaiadr1.ppmxl_best_neighbour\n",
      "gaiadr1.ppmxl_neighbourhood\n",
      "gaiadr1.sdss_dr9_best_neighbour\n",
      "gaiadr1.sdss_dr9_neighbourhood\n",
      "gaiadr1.tmass_best_neighbour\n",
      "gaiadr1.tmass_neighbourhood\n",
      "gaiadr1.ucac4_best_neighbour\n",
      "gaiadr1.ucac4_neighbourhood\n",
      "gaiadr1.urat1_best_neighbour\n",
      "gaiadr1.urat1_neighbourhood\n",
      "gaiadr1.cepheid\n",
      "gaiadr1.phot_variable_time_series_gfov\n",
      "gaiadr1.phot_variable_time_series_gfov_statistical_parameters\n",
      "gaiadr1.rrlyrae\n",
      "gaiadr1.variable_summary\n",
      "gaiadr1.allwise_original_valid\n",
      "gaiadr1.gsc23_original_valid\n",
      "gaiadr1.ppmxl_original_valid\n",
      "gaiadr1.sdssdr9_original_valid\n",
      "gaiadr1.tmass_original_valid\n",
      "gaiadr1.ucac4_original_valid\n",
      "gaiadr1.urat1_original_valid\n",
      "gaiadr1.gaia_source\n",
      "gaiadr1.tgas_source\n",
      "gaiadr2.aux_allwise_agn_gdr2_cross_id\n",
      "gaiadr2.aux_iers_gdr2_cross_id\n",
      "gaiadr2.aux_sso_orbit_residuals\n",
      "gaiadr2.aux_sso_orbits\n",
      "gaiadr2.dr1_neighbourhood\n",
      "gaiadr2.allwise_best_neighbour\n",
      "gaiadr2.allwise_neighbourhood\n",
      "gaiadr2.apassdr9_best_neighbour\n",
      "gaiadr2.apassdr9_neighbourhood\n",
      "gaiadr2.gsc23_best_neighbour\n",
      "gaiadr2.gsc23_neighbourhood\n",
      "gaiadr2.hipparcos2_best_neighbour\n",
      "gaiadr2.hipparcos2_neighbourhood\n",
      "gaiadr2.panstarrs1_best_neighbour\n",
      "gaiadr2.panstarrs1_neighbourhood\n",
      "gaiadr2.ppmxl_best_neighbour\n",
      "gaiadr2.ppmxl_neighbourhood\n",
      "gaiadr2.ravedr5_best_neighbour\n",
      "gaiadr2.ravedr5_neighbourhood\n",
      "gaiadr2.sdssdr9_best_neighbour\n",
      "gaiadr2.sdssdr9_neighbourhood\n",
      "gaiadr2.tmass_best_neighbour\n",
      "gaiadr2.tmass_neighbourhood\n",
      "gaiadr2.tycho2_best_neighbour\n",
      "gaiadr2.tycho2_neighbourhood\n",
      "gaiadr2.urat1_best_neighbour\n",
      "gaiadr2.urat1_neighbourhood\n",
      "gaiadr2.sso_observation\n",
      "gaiadr2.sso_source\n",
      "gaiadr2.vari_cepheid\n",
      "gaiadr2.vari_classifier_class_definition\n",
      "gaiadr2.vari_classifier_definition\n",
      "gaiadr2.vari_classifier_result\n",
      "gaiadr2.vari_long_period_variable\n",
      "gaiadr2.vari_rotation_modulation\n",
      "gaiadr2.vari_rrlyrae\n",
      "gaiadr2.vari_short_timescale\n",
      "gaiadr2.vari_time_series_statistics\n",
      "gaiadr2.panstarrs1_original_valid\n",
      "gaiadr2.gaia_source\n",
      "gaiadr2.ruwe\n"
     ]
    }
   ],
   "source": [
    "for table in tables:\n",
    "    print(table.name)"
   ]
  },
  {
   "cell_type": "markdown",
   "metadata": {},
   "source": [
    "So that's a lot of tables.  The ones we'll use are:\n",
    "\n",
    "* `gaiadr2.gaia_source`, which contains Gaia data from [data release 2](https://www.cosmos.esa.int/web/gaia/data-release-2),\n",
    "\n",
    "* `gaiadr2.panstarrs1_original_valid`, which contains the photometry data we'll use from PanSTARRS, and\n",
    "\n",
    "* `gaiadr2.panstarrs1_best_neighbour`, which we'll use to cross-match each star observed by Gaia with the same star observed by PanSTARRS.\n",
    "\n",
    "We can use `load_table` (not `load_tables`) to get the metadata for a single table.  The name of this function is misleading, because it only downloads metadata. "
   ]
  },
  {
   "cell_type": "code",
   "execution_count": 5,
   "metadata": {},
   "outputs": [
    {
     "name": "stdout",
     "output_type": "stream",
     "text": [
      "Retrieving table 'gaiadr2.gaia_source'\n",
      "Parsing table 'gaiadr2.gaia_source'...\n",
      "Done.\n"
     ]
    },
    {
     "data": {
      "text/plain": [
       "<astroquery.utils.tap.model.taptable.TapTableMeta at 0x7f10a2326820>"
      ]
     },
     "execution_count": 5,
     "metadata": {},
     "output_type": "execute_result"
    }
   ],
   "source": [
    "meta = Gaia.load_table('gaiadr2.gaia_source')\n",
    "meta"
   ]
  },
  {
   "cell_type": "markdown",
   "metadata": {},
   "source": [
    "Jupyter shows that the result is an object of type `TapTableMeta`, but it does not display the contents.\n",
    "\n",
    "To see the metadata, we have to print the object."
   ]
  },
  {
   "cell_type": "code",
   "execution_count": 6,
   "metadata": {},
   "outputs": [
    {
     "name": "stdout",
     "output_type": "stream",
     "text": [
      "TAP Table name: gaiadr2.gaiadr2.gaia_source\n",
      "Description: This table has an entry for every Gaia observed source as listed in the\n",
      "Main Database accumulating catalogue version from which the catalogue\n",
      "release has been generated. It contains the basic source parameters,\n",
      "that is only final data (no epoch data) and no spectra (neither final\n",
      "nor epoch).\n",
      "Num. columns: 96\n"
     ]
    }
   ],
   "source": [
    "print(meta)"
   ]
  },
  {
   "cell_type": "markdown",
   "metadata": {},
   "source": [
    "In `meta`, the name of the table appears as `gaiadr2.gaiadr2.gaia_source`, which is the \"qualified name\", but when we load the metadata, we refer to it as `gaiadr2.gaia_source`."
   ]
  },
  {
   "cell_type": "code",
   "execution_count": 7,
   "metadata": {
    "tags": [
     "hide-cell"
    ]
   },
   "outputs": [],
   "source": [
    "# Solution\n",
    "\n",
    "# The error message, last time we tried, was\n",
    "\n",
    "# Retrieving table 'gaiadr2.gaiadr2.gaia_source'\n",
    "# 500 Error 500:\n",
    "# esavo.tap.TAPException: esavo.tap.TAPException: Schema cannot be null\n",
    "\n",
    "# Which is not remotely helpful.\n",
    "\n",
    "# The point of this exercise is to alert the participants to the difficulty\n",
    "# of debugging queries with VERY limited feedback.  So developing and testing\n",
    "# incrementally is very important."
   ]
  },
  {
   "cell_type": "markdown",
   "metadata": {},
   "source": [
    "## Columns\n",
    "\n",
    "The following loop prints the names of the columns in the table."
   ]
  },
  {
   "cell_type": "code",
   "execution_count": 8,
   "metadata": {
    "tags": [
     "hide-output"
    ]
   },
   "outputs": [
    {
     "name": "stdout",
     "output_type": "stream",
     "text": [
      "solution_id\n",
      "designation\n",
      "source_id\n",
      "random_index\n",
      "ref_epoch\n",
      "ra\n",
      "ra_error\n",
      "dec\n",
      "dec_error\n",
      "parallax\n",
      "parallax_error\n",
      "parallax_over_error\n",
      "pmra\n",
      "pmra_error\n",
      "pmdec\n",
      "pmdec_error\n",
      "ra_dec_corr\n",
      "ra_parallax_corr\n",
      "ra_pmra_corr\n",
      "ra_pmdec_corr\n",
      "dec_parallax_corr\n",
      "dec_pmra_corr\n",
      "dec_pmdec_corr\n",
      "parallax_pmra_corr\n",
      "parallax_pmdec_corr\n",
      "pmra_pmdec_corr\n",
      "astrometric_n_obs_al\n",
      "astrometric_n_obs_ac\n",
      "astrometric_n_good_obs_al\n",
      "astrometric_n_bad_obs_al\n",
      "astrometric_gof_al\n",
      "astrometric_chi2_al\n",
      "astrometric_excess_noise\n",
      "astrometric_excess_noise_sig\n",
      "astrometric_params_solved\n",
      "astrometric_primary_flag\n",
      "astrometric_weight_al\n",
      "astrometric_pseudo_colour\n",
      "astrometric_pseudo_colour_error\n",
      "mean_varpi_factor_al\n",
      "astrometric_matched_observations\n",
      "visibility_periods_used\n",
      "astrometric_sigma5d_max\n",
      "frame_rotator_object_type\n",
      "matched_observations\n",
      "duplicated_source\n",
      "phot_g_n_obs\n",
      "phot_g_mean_flux\n",
      "phot_g_mean_flux_error\n",
      "phot_g_mean_flux_over_error\n",
      "phot_g_mean_mag\n",
      "phot_bp_n_obs\n",
      "phot_bp_mean_flux\n",
      "phot_bp_mean_flux_error\n",
      "phot_bp_mean_flux_over_error\n",
      "phot_bp_mean_mag\n",
      "phot_rp_n_obs\n",
      "phot_rp_mean_flux\n",
      "phot_rp_mean_flux_error\n",
      "phot_rp_mean_flux_over_error\n",
      "phot_rp_mean_mag\n",
      "phot_bp_rp_excess_factor\n",
      "phot_proc_mode\n",
      "bp_rp\n",
      "bp_g\n",
      "g_rp\n",
      "radial_velocity\n",
      "radial_velocity_error\n",
      "rv_nb_transits\n",
      "rv_template_teff\n",
      "rv_template_logg\n",
      "rv_template_fe_h\n",
      "phot_variable_flag\n",
      "l\n",
      "b\n",
      "ecl_lon\n",
      "ecl_lat\n",
      "priam_flags\n",
      "teff_val\n",
      "teff_percentile_lower\n",
      "teff_percentile_upper\n",
      "a_g_val\n",
      "a_g_percentile_lower\n",
      "a_g_percentile_upper\n",
      "e_bp_min_rp_val\n",
      "e_bp_min_rp_percentile_lower\n",
      "e_bp_min_rp_percentile_upper\n",
      "flame_flags\n",
      "radius_val\n",
      "radius_percentile_lower\n",
      "radius_percentile_upper\n",
      "lum_val\n",
      "lum_percentile_lower\n",
      "lum_percentile_upper\n",
      "datalink_url\n",
      "epoch_photometry_url\n"
     ]
    }
   ],
   "source": [
    "for column in meta.columns:\n",
    "    print(column.name)"
   ]
  },
  {
   "cell_type": "markdown",
   "metadata": {},
   "source": [
    "You can probably guess what many of these columns are by looking at the names, but you should resist the temptation to guess.\n",
    "To find out what the columns mean, [read the documentation](https://gea.esac.esa.int/archive/documentation/GDR2/Gaia_archive/chap_datamodel/sec_dm_main_tables/ssec_dm_gaia_source.html).\n",
    "\n",
    "If you want to know what can go wrong when you don't read the documentation, [you might like this article](https://www.vox.com/future-perfect/2019/6/4/18650969/married-women-miserable-fake-paul-dolan-happiness)."
   ]
  },
  {
   "cell_type": "markdown",
   "metadata": {},
   "source": [
    "**Exercise:** One of the other tables we'll use is `gaiadr2.panstarrs1_original_valid`.  Use `load_table` to get the metadata for this table.  How many columns are there and what are their names?"
   ]
  },
  {
   "cell_type": "code",
   "execution_count": 9,
   "metadata": {
    "scrolled": true,
    "tags": [
     "hide-cell",
     "remove-output"
    ]
   },
   "outputs": [
    {
     "name": "stdout",
     "output_type": "stream",
     "text": [
      "Retrieving table 'gaiadr2.panstarrs1_original_valid'\n",
      "Parsing table 'gaiadr2.panstarrs1_original_valid'...\n",
      "Done.\n",
      "TAP Table name: gaiadr2.gaiadr2.panstarrs1_original_valid\n",
      "Description: The Panoramic Survey Telescope and Rapid Response System (Pan-STARRS) is\n",
      "a system for wide-field astronomical imaging developed and operated by\n",
      "the Institute for Astronomy at the University of Hawaii. Pan-STARRS1\n",
      "(PS1) is the first part of Pan-STARRS to be completed and is the basis\n",
      "for Data Release 1 (DR1). The PS1 survey used a 1.8 meter telescope and\n",
      "its 1.4 Gigapixel camera to image the sky in five broadband filters (g,\n",
      "r, i, z, y).\n",
      "\n",
      "The current table contains a filtered subsample of the 10 723 304 629\n",
      "entries listed in the original ObjectThin table.\n",
      "We used only ObjectThin and MeanObject tables to extract\n",
      "panstarrs1OriginalValid table, this means that objects detected only in\n",
      "stack images are not included here. The main reason for us to avoid the\n",
      "use of objects detected in stack images is that their astrometry is not\n",
      "as good as the mean objects astrometry: “The stack positions (raStack,\n",
      "decStack) have considerably larger systematic astrometric errors than\n",
      "the mean epoch positions (raMean, decMean).” The astrometry for the\n",
      "MeanObject positions uses Gaia DR1 as a reference catalog, while the\n",
      "stack positions use 2MASS as a reference catalog.\n",
      "\n",
      "In details, we filtered out all objects where:\n",
      "\n",
      "-   nDetections = 1\n",
      "\n",
      "-   no good quality data in Pan-STARRS, objInfoFlag 33554432 not set\n",
      "\n",
      "-   mean astrometry could not be measured, objInfoFlag 524288 set\n",
      "\n",
      "-   stack position used for mean astrometry, objInfoFlag 1048576 set\n",
      "\n",
      "-   error on all magnitudes equal to 0 or to -999;\n",
      "\n",
      "-   all magnitudes set to -999;\n",
      "\n",
      "-   error on RA or DEC greater than 1 arcsec.\n",
      "\n",
      "The number of objects in panstarrs1OriginalValid is 2 264 263 282.\n",
      "\n",
      "The panstarrs1OriginalValid table contains only a subset of the columns\n",
      "available in the combined ObjectThin and MeanObject tables. A\n",
      "description of the original ObjectThin and MeanObjects tables can be\n",
      "found at:\n",
      "https://outerspace.stsci.edu/display/PANSTARRS/PS1+Database+object+and+detection+tables\n",
      "\n",
      "Download:\n",
      "http://mastweb.stsci.edu/ps1casjobs/home.aspx\n",
      "Documentation:\n",
      "https://outerspace.stsci.edu/display/PANSTARRS\n",
      "http://pswww.ifa.hawaii.edu/pswww/\n",
      "References:\n",
      "The Pan-STARRS1 Surveys, Chambers, K.C., et al. 2016, arXiv:1612.05560\n",
      "Pan-STARRS Data Processing System, Magnier, E. A., et al. 2016,\n",
      "arXiv:1612.05240\n",
      "Pan-STARRS Pixel Processing: Detrending, Warping, Stacking, Waters, C.\n",
      "Z., et al. 2016, arXiv:1612.05245\n",
      "Pan-STARRS Pixel Analysis: Source Detection and Characterization,\n",
      "Magnier, E. A., et al. 2016, arXiv:1612.05244\n",
      "Pan-STARRS Photometric and Astrometric Calibration, Magnier, E. A., et\n",
      "al. 2016, arXiv:1612.05242\n",
      "The Pan-STARRS1 Database and Data Products, Flewelling, H. A., et al.\n",
      "2016, arXiv:1612.05243\n",
      "\n",
      "Catalogue curator:\n",
      "SSDC - ASI Space Science Data Center\n",
      "https://www.ssdc.asi.it/\n",
      "Num. columns: 26\n"
     ]
    }
   ],
   "source": [
    "# Solution\n",
    "\n",
    "meta2 = Gaia.load_table('gaiadr2.panstarrs1_original_valid')\n",
    "print(meta2)"
   ]
  },
  {
   "cell_type": "code",
   "execution_count": 10,
   "metadata": {
    "tags": [
     "hide-cell"
    ]
   },
   "outputs": [
    {
     "name": "stdout",
     "output_type": "stream",
     "text": [
      "obj_name\n",
      "obj_id\n",
      "ra\n",
      "dec\n",
      "ra_error\n",
      "dec_error\n",
      "epoch_mean\n",
      "g_mean_psf_mag\n",
      "g_mean_psf_mag_error\n",
      "g_flags\n",
      "r_mean_psf_mag\n",
      "r_mean_psf_mag_error\n",
      "r_flags\n",
      "i_mean_psf_mag\n",
      "i_mean_psf_mag_error\n",
      "i_flags\n",
      "z_mean_psf_mag\n",
      "z_mean_psf_mag_error\n",
      "z_flags\n",
      "y_mean_psf_mag\n",
      "y_mean_psf_mag_error\n",
      "y_flags\n",
      "n_detections\n",
      "zone_id\n",
      "obj_info_flag\n",
      "quality_flag\n"
     ]
    }
   ],
   "source": [
    "# Solution\n",
    "\n",
    "for column in meta2.columns:\n",
    "    print(column.name)"
   ]
  },
  {
   "cell_type": "markdown",
   "metadata": {},
   "source": [
    "## Writing queries\n",
    "\n",
    "By now you might be wondering how we actually download the data.  With tables this big, you generally don't.  Instead, you use queries to select only the data you want.\n",
    "\n",
    "A query is a string written in a query language like SQL; for the Gaia database, the query language is a dialect of SQL called ADQL.\n",
    "\n",
    "Here's an example of an ADQL query."
   ]
  },
  {
   "cell_type": "code",
   "execution_count": 11,
   "metadata": {},
   "outputs": [],
   "source": [
    "query1 = \"\"\"SELECT \n",
    "TOP 10\n",
    "source_id, ref_epoch, ra, dec, parallax \n",
    "FROM gaiadr2.gaia_source\"\"\""
   ]
  },
  {
   "cell_type": "markdown",
   "metadata": {},
   "source": [
    "**Python note:** We use a [triple-quoted string](https://docs.python.org/3/tutorial/introduction.html#strings) here so we can include line breaks in the query, which makes it easier to read.\n",
    "\n",
    "The words in uppercase are ADQL keywords:\n",
    "\n",
    "* `SELECT` indicates that we are selecting data (as opposed to adding or modifying data).\n",
    "\n",
    "* `TOP` indicates that we only want the first 10 rows of the table, which is useful for testing a query before asking for all of the data.\n",
    "\n",
    "* `FROM` specifies which table we want data from.\n",
    "\n",
    "The third line is a list of column names, indicating which columns we want.  \n",
    "\n",
    "In this example, the keywords are capitalized and the column names are lowercase.  This is a common style, but it is not required.  ADQL and SQL are not case-sensitive."
   ]
  },
  {
   "cell_type": "markdown",
   "metadata": {},
   "source": [
    "To run this query, we use the `Gaia` object, which represents our connection to the Gaia database, and invoke `launch_job`:"
   ]
  },
  {
   "cell_type": "code",
   "execution_count": 12,
   "metadata": {},
   "outputs": [
    {
     "data": {
      "text/plain": [
       "<astroquery.utils.tap.model.job.Job at 0x7f10a2344250>"
      ]
     },
     "execution_count": 12,
     "metadata": {},
     "output_type": "execute_result"
    }
   ],
   "source": [
    "job1 = Gaia.launch_job(query1)\n",
    "job1"
   ]
  },
  {
   "cell_type": "markdown",
   "metadata": {},
   "source": [
    "The result is an object that represents the job running on a Gaia server.\n",
    "\n",
    "If you print it, it displays metadata for the forthcoming table."
   ]
  },
  {
   "cell_type": "code",
   "execution_count": 13,
   "metadata": {},
   "outputs": [
    {
     "name": "stdout",
     "output_type": "stream",
     "text": [
      "<Table length=10>\n",
      "   name    dtype  unit                            description                             n_bad\n",
      "--------- ------- ---- ------------------------------------------------------------------ -----\n",
      "source_id   int64      Unique source identifier (unique within a particular Data Release)     0\n",
      "ref_epoch float64   yr                                                    Reference epoch     0\n",
      "       ra float64  deg                                                    Right ascension     0\n",
      "      dec float64  deg                                                        Declination     0\n",
      " parallax float64  mas                                                           Parallax     2\n",
      "Jobid: None\n",
      "Phase: COMPLETED\n",
      "Owner: None\n",
      "Output file: sync_20201117092213.xml.gz\n",
      "Results: None\n"
     ]
    }
   ],
   "source": [
    "print(job1)"
   ]
  },
  {
   "cell_type": "markdown",
   "metadata": {},
   "source": [
    "Don't worry about `Results: None`.  That does not actually mean there are no results.\n",
    "\n",
    "However, `Phase: COMPLETED` indicates that the job is complete, so we can get the results like this:"
   ]
  },
  {
   "cell_type": "code",
   "execution_count": 14,
   "metadata": {},
   "outputs": [
    {
     "data": {
      "text/plain": [
       "astropy.table.table.Table"
      ]
     },
     "execution_count": 14,
     "metadata": {},
     "output_type": "execute_result"
    }
   ],
   "source": [
    "results1 = job1.get_results()\n",
    "type(results1)"
   ]
  },
  {
   "cell_type": "markdown",
   "metadata": {},
   "source": [
    "**Optional detail:**  Why is `table` repeated three times?  The first is the name of the module, the second is the name of the submodule, and the third is the name of the class.  Most of the time we only care about the last one.  It's like the Linnean name for gorilla, which is *Gorilla gorilla gorilla*."
   ]
  },
  {
   "cell_type": "markdown",
   "metadata": {},
   "source": [
    "The result is an [Astropy Table](https://docs.astropy.org/en/stable/table/), which is similar to a table in an SQL database except:\n",
    "\n",
    "* SQL databases are stored on disk drives, so they are persistent; that is, they \"survive\" even if you turn off the computer.  An Astropy `Table` is stored in memory; it disappears when you turn off the computer (or shut down this Jupyter notebook).\n",
    "\n",
    "* SQL databases are designed to process queries.  An Astropy `Table` can perform some query-like operations, like selecting columns and rows.  But these operations use Python syntax, not SQL.\n",
    "\n",
    "Jupyter knows how to display the contents of a `Table`."
   ]
  },
  {
   "cell_type": "code",
   "execution_count": 15,
   "metadata": {},
   "outputs": [
    {
     "data": {
      "text/html": [
       "<i>Table length=10</i>\n",
       "<table id=\"table139709417416256\" class=\"table-striped table-bordered table-condensed\">\n",
       "<thead><tr><th>source_id</th><th>ref_epoch</th><th>ra</th><th>dec</th><th>parallax</th></tr></thead>\n",
       "<thead><tr><th></th><th>yr</th><th>deg</th><th>deg</th><th>mas</th></tr></thead>\n",
       "<thead><tr><th>int64</th><th>float64</th><th>float64</th><th>float64</th><th>float64</th></tr></thead>\n",
       "<tr><td>2029534160912857984</td><td>2015.5</td><td>302.1221011162626</td><td>29.464242405581903</td><td>0.26719312673637957</td></tr>\n",
       "<tr><td>2029527563843522688</td><td>2015.5</td><td>301.76635488333477</td><td>29.297302003155878</td><td>-0.5339115955037064</td></tr>\n",
       "<tr><td>2029530175194496768</td><td>2015.5</td><td>301.84979907220344</td><td>29.424817571056252</td><td>0.4993858623581147</td></tr>\n",
       "<tr><td>2029552990056965376</td><td>2015.5</td><td>302.61233151638965</td><td>29.69609949341979</td><td>--</td></tr>\n",
       "<tr><td>2029559174807808512</td><td>2015.5</td><td>302.08554269720975</td><td>29.568937428891136</td><td>0.07378124688708597</td></tr>\n",
       "<tr><td>2029534126551565440</td><td>2015.5</td><td>302.1383595452346</td><td>29.4560049110412</td><td>--</td></tr>\n",
       "<tr><td>2029534023485750400</td><td>2015.5</td><td>302.06234099159894</td><td>29.463904128839516</td><td>-0.6248984748555095</td></tr>\n",
       "<tr><td>2029552990053470592</td><td>2015.5</td><td>302.61273920007653</td><td>29.701315238258985</td><td>-0.5113424569489686</td></tr>\n",
       "<tr><td>2029545430912236672</td><td>2015.5</td><td>302.2752745129967</td><td>29.482001000231968</td><td>0.049122831032945236</td></tr>\n",
       "<tr><td>2029534435790829568</td><td>2015.5</td><td>302.08962936217654</td><td>29.490016052993543</td><td>1.0104447723028214</td></tr>\n",
       "</table>"
      ],
      "text/plain": [
       "<Table length=10>\n",
       "     source_id      ref_epoch ...        dec               parallax      \n",
       "                        yr    ...        deg                 mas         \n",
       "       int64         float64  ...      float64             float64       \n",
       "------------------- --------- ... ------------------ --------------------\n",
       "2029534160912857984    2015.5 ... 29.464242405581903  0.26719312673637957\n",
       "2029527563843522688    2015.5 ... 29.297302003155878  -0.5339115955037064\n",
       "2029530175194496768    2015.5 ... 29.424817571056252   0.4993858623581147\n",
       "2029552990056965376    2015.5 ...  29.69609949341979                   --\n",
       "2029559174807808512    2015.5 ... 29.568937428891136  0.07378124688708597\n",
       "2029534126551565440    2015.5 ...   29.4560049110412                   --\n",
       "2029534023485750400    2015.5 ... 29.463904128839516  -0.6248984748555095\n",
       "2029552990053470592    2015.5 ... 29.701315238258985  -0.5113424569489686\n",
       "2029545430912236672    2015.5 ... 29.482001000231968 0.049122831032945236\n",
       "2029534435790829568    2015.5 ... 29.490016052993543   1.0104447723028214"
      ]
     },
     "execution_count": 15,
     "metadata": {},
     "output_type": "execute_result"
    }
   ],
   "source": [
    "results1"
   ]
  },
  {
   "cell_type": "markdown",
   "metadata": {},
   "source": [
    "Each column has a name, units, and a data type.\n",
    "\n",
    "For example, the units of `ra` and `dec` are degrees, and their data type is `float64`, which is a 64-bit floating-point number, used to store measurements with a fraction part.\n",
    "\n",
    "This information comes from the Gaia database, and has been stored in the Astropy `Table` by Astroquery."
   ]
  },
  {
   "cell_type": "markdown",
   "metadata": {},
   "source": [
    "**Exercise:** Read [the documentation of this table](https://gea.esac.esa.int/archive/documentation/GDR2/Gaia_archive/chap_datamodel/sec_dm_main_tables/ssec_dm_gaia_source.html) and choose a column that looks interesting to you.  Add the column name to the query and run it again.  What are the units of the column you selected?  What is its data type?"
   ]
  },
  {
   "cell_type": "markdown",
   "metadata": {},
   "source": [
    "## Asynchronous queries\n",
    "\n",
    "`launch_job` asks the server to run the job \"synchronously\", which normally means it runs immediately.  But synchronous jobs are limited to 2000 rows.  For queries that return more rows, you should run \"asynchronously\", which mean they might take longer to get started.\n",
    "\n",
    "If you are not sure how many rows a query will return, you can use the SQL command `COUNT` to find out how many rows are in the result without actually returning them.  We'll see an example of this later.\n",
    "\n",
    "The results of an asynchronous query are stored in a file on the server, so you can start a query and come back later to get the results.\n",
    "\n",
    "For anonymous users, files are kept for three days.\n",
    "\n",
    "As an example, let's try a query that's similar to `query1`, with two changes:\n",
    "\n",
    "* It selects the first 3000 rows, so it is bigger than we should run synchronously.\n",
    "\n",
    "* It uses a new keyword, `WHERE`."
   ]
  },
  {
   "cell_type": "code",
   "execution_count": 16,
   "metadata": {},
   "outputs": [],
   "source": [
    "query2 = \"\"\"SELECT TOP 3000\n",
    "source_id, ref_epoch, ra, dec, parallax\n",
    "FROM gaiadr2.gaia_source\n",
    "WHERE parallax < 1\n",
    "\"\"\""
   ]
  },
  {
   "cell_type": "markdown",
   "metadata": {},
   "source": [
    "A `WHERE` clause indicates which rows we want; in this case, the query selects only rows \"where\" `parallax` is less than 1.  This has the effect of selecting stars with relatively low parallax, which are farther away.  We'll use this clause to exclude nearby stars that are unlikely to be part of GD-1.\n",
    "\n",
    "`WHERE` is one of the most common clauses in ADQL/SQL, and one of the most useful, because it allows us to select only the rows we need from the database.\n",
    "\n",
    "We use `launch_job_async` to submit an asynchronous query."
   ]
  },
  {
   "cell_type": "code",
   "execution_count": 17,
   "metadata": {},
   "outputs": [
    {
     "name": "stdout",
     "output_type": "stream",
     "text": [
      "INFO: Query finished. [astroquery.utils.tap.core]\n",
      "<Table length=3000>\n",
      "   name    dtype  unit                            description                            \n",
      "--------- ------- ---- ------------------------------------------------------------------\n",
      "source_id   int64      Unique source identifier (unique within a particular Data Release)\n",
      "ref_epoch float64   yr                                                    Reference epoch\n",
      "       ra float64  deg                                                    Right ascension\n",
      "      dec float64  deg                                                        Declination\n",
      " parallax float64  mas                                                           Parallax\n",
      "Jobid: 1605622934969O\n",
      "Phase: COMPLETED\n",
      "Owner: None\n",
      "Output file: async_20201117092215.vot\n",
      "Results: None\n"
     ]
    }
   ],
   "source": [
    "job2 = Gaia.launch_job_async(query2)\n",
    "print(job2)"
   ]
  },
  {
   "cell_type": "markdown",
   "metadata": {},
   "source": [
    "And here are the results."
   ]
  },
  {
   "cell_type": "code",
   "execution_count": 18,
   "metadata": {},
   "outputs": [
    {
     "data": {
      "text/html": [
       "<i>Table length=3000</i>\n",
       "<table id=\"table139709414533440\" class=\"table-striped table-bordered table-condensed\">\n",
       "<thead><tr><th>source_id</th><th>ref_epoch</th><th>ra</th><th>dec</th><th>parallax</th></tr></thead>\n",
       "<thead><tr><th></th><th>yr</th><th>deg</th><th>deg</th><th>mas</th></tr></thead>\n",
       "<thead><tr><th>int64</th><th>float64</th><th>float64</th><th>float64</th><th>float64</th></tr></thead>\n",
       "<tr><td>2029534160912857984</td><td>2015.5</td><td>302.1221011162626</td><td>29.464242405581903</td><td>0.26719312673637957</td></tr>\n",
       "<tr><td>2029527563843522688</td><td>2015.5</td><td>301.76635488333477</td><td>29.297302003155878</td><td>-0.5339115955037064</td></tr>\n",
       "<tr><td>2029530175194496768</td><td>2015.5</td><td>301.84979907220344</td><td>29.424817571056252</td><td>0.4993858623581147</td></tr>\n",
       "<tr><td>2029559174807808512</td><td>2015.5</td><td>302.08554269720975</td><td>29.568937428891136</td><td>0.07378124688708597</td></tr>\n",
       "<tr><td>2029534023485750400</td><td>2015.5</td><td>302.06234099159894</td><td>29.463904128839516</td><td>-0.6248984748555095</td></tr>\n",
       "<tr><td>2029552990053470592</td><td>2015.5</td><td>302.61273920007653</td><td>29.701315238258985</td><td>-0.5113424569489686</td></tr>\n",
       "<tr><td>2029545430912236672</td><td>2015.5</td><td>302.2752745129967</td><td>29.482001000231968</td><td>0.049122831032945236</td></tr>\n",
       "<tr><td>2029551375154168192</td><td>2015.5</td><td>302.6322719484525</td><td>29.629231848937902</td><td>-0.4273623555622012</td></tr>\n",
       "<tr><td>2029537184581680000</td><td>2015.5</td><td>301.8270877829269</td><td>29.481945977423116</td><td>0.686631849492751</td></tr>\n",
       "<tr><td>...</td><td>...</td><td>...</td><td>...</td><td>...</td></tr>\n",
       "<tr><td>5351023617248935296</td><td>2015.5</td><td>163.20342713669297</td><td>-57.45843664435045</td><td>-0.12712245925716417</td></tr>\n",
       "<tr><td>5351013034403261056</td><td>2015.5</td><td>162.76029338894156</td><td>-57.57725086313733</td><td>-0.04737425207265826</td></tr>\n",
       "<tr><td>6230089722024056576</td><td>2015.5</td><td>221.13188844526658</td><td>-23.856129423698576</td><td>0.40215405335632315</td></tr>\n",
       "<tr><td>6229981248329591552</td><td>2015.5</td><td>219.5757477670797</td><td>-24.520741795344115</td><td>-0.1711128865194354</td></tr>\n",
       "<tr><td>6230163114425691904</td><td>2015.5</td><td>220.67263853794475</td><td>-23.502746567943603</td><td>-0.0983885985018888</td></tr>\n",
       "<tr><td>6229932491861252352</td><td>2015.5</td><td>220.73523627555818</td><td>-24.640708681077328</td><td>0.4328661904699682</td></tr>\n",
       "<tr><td>6230016879379130240</td><td>2015.5</td><td>219.83052324579677</td><td>-24.2061244892915</td><td>0.3925985611610745</td></tr>\n",
       "<tr><td>6230073366787772800</td><td>2015.5</td><td>221.47192783117885</td><td>-23.959139666294128</td><td>0.48625897986634425</td></tr>\n",
       "<tr><td>6230145075563001728</td><td>2015.5</td><td>221.03467394339305</td><td>-23.58099620047661</td><td>0.4002784743473182</td></tr>\n",
       "<tr><td>6230167031435813760</td><td>2015.5</td><td>220.7851856662174</td><td>-23.336372421616733</td><td>-0.8736321545140885</td></tr>\n",
       "</table>"
      ],
      "text/plain": [
       "<Table length=3000>\n",
       "     source_id      ref_epoch ...         dec               parallax      \n",
       "                        yr    ...         deg                 mas         \n",
       "       int64         float64  ...       float64             float64       \n",
       "------------------- --------- ... ------------------- --------------------\n",
       "2029534160912857984    2015.5 ...  29.464242405581903  0.26719312673637957\n",
       "2029527563843522688    2015.5 ...  29.297302003155878  -0.5339115955037064\n",
       "2029530175194496768    2015.5 ...  29.424817571056252   0.4993858623581147\n",
       "2029559174807808512    2015.5 ...  29.568937428891136  0.07378124688708597\n",
       "2029534023485750400    2015.5 ...  29.463904128839516  -0.6248984748555095\n",
       "2029552990053470592    2015.5 ...  29.701315238258985  -0.5113424569489686\n",
       "2029545430912236672    2015.5 ...  29.482001000231968 0.049122831032945236\n",
       "2029551375154168192    2015.5 ...  29.629231848937902  -0.4273623555622012\n",
       "2029537184581680000    2015.5 ...  29.481945977423116    0.686631849492751\n",
       "                ...       ... ...                 ...                  ...\n",
       "5351023617248935296    2015.5 ...  -57.45843664435045 -0.12712245925716417\n",
       "5351013034403261056    2015.5 ...  -57.57725086313733 -0.04737425207265826\n",
       "6230089722024056576    2015.5 ... -23.856129423698576  0.40215405335632315\n",
       "6229981248329591552    2015.5 ... -24.520741795344115  -0.1711128865194354\n",
       "6230163114425691904    2015.5 ... -23.502746567943603  -0.0983885985018888\n",
       "6229932491861252352    2015.5 ... -24.640708681077328   0.4328661904699682\n",
       "6230016879379130240    2015.5 ...   -24.2061244892915   0.3925985611610745\n",
       "6230073366787772800    2015.5 ... -23.959139666294128  0.48625897986634425\n",
       "6230145075563001728    2015.5 ...  -23.58099620047661   0.4002784743473182\n",
       "6230167031435813760    2015.5 ... -23.336372421616733  -0.8736321545140885"
      ]
     },
     "execution_count": 18,
     "metadata": {},
     "output_type": "execute_result"
    }
   ],
   "source": [
    "results2 = job2.get_results()\n",
    "results2"
   ]
  },
  {
   "cell_type": "markdown",
   "metadata": {},
   "source": [
    "You might notice that some values of `parallax` are negative.  As [this FAQ explains](https://www.cosmos.esa.int/web/gaia/archive-tips#negative%20parallax), \"Negative parallaxes are caused by errors in the observations.\"  Negative parallaxes have \"no physical meaning,\" but they can be a \"useful diagnostic on the quality of the astrometric solution.\"\n",
    "\n",
    "Later we will see an example where we use `parallax` and `parallax_error` to identify stars where the distance estimate is likely to be inaccurate."
   ]
  },
  {
   "cell_type": "markdown",
   "metadata": {},
   "source": [
    "**Exercise:** The clauses in a query have to be in the right order.  Go back and change the order of the clauses in `query2` and run it again.  \n",
    "\n",
    "The query should fail, but notice that you don't get much useful debugging information.  \n",
    "\n",
    "For this reason, developing and debugging ADQL queries can be really hard.  A few suggestions that might help:\n",
    "\n",
    "* Whenever possible, start with a working query, either an example you find online or a query you have used in the past.\n",
    "\n",
    "* Make small changes and test each change before you continue.\n",
    "\n",
    "* While you are debugging, use `TOP` to limit the number of rows in the result.  That will make each attempt run faster, which reduces your testing time.  \n",
    "\n",
    "* Launching test queries synchronously might make them start faster, too."
   ]
  },
  {
   "cell_type": "markdown",
   "metadata": {},
   "source": [
    "## Operators\n",
    "\n",
    "In a `WHERE` clause, you can use any of the [SQL comparison operators](https://www.w3schools.com/sql/sql_operators.asp); here are the most common ones:\n",
    "\n",
    "| Symbol | Operation\n",
    "|--------| :---\n",
    "| `>` | greater than\n",
    "| `<` | less than\n",
    "| `>=` | greater than or equal\n",
    "| `<=` | less than or equal\n",
    "| `=` | equal\n",
    "| `!=` or `<>` | not equal\n",
    "\n",
    "Most of these are the same as Python, but some are not.  In particular, notice that the equality operator is `=`, not `==`.\n",
    "Be careful to keep your Python out of your ADQL!\n",
    "\n",
    "You can combine comparisons using the logical operators:\n",
    "\n",
    "* AND: true if both comparisons are true\n",
    "* OR: true if either or both comparisons are true\n",
    "\n",
    "Finally, you can use `NOT` to invert the result of a comparison. "
   ]
  },
  {
   "cell_type": "markdown",
   "metadata": {},
   "source": [
    "**Exercise:** [Read about SQL operators here](https://www.w3schools.com/sql/sql_operators.asp) and then modify the previous query to select rows where `bp_rp` is between `-0.75` and `2`.\n",
    "\n",
    "You can [read about this variable here](https://gea.esac.esa.int/archive/documentation/GDR2/Gaia_archive/chap_datamodel/sec_dm_main_tables/ssec_dm_gaia_source.html)."
   ]
  },
  {
   "cell_type": "code",
   "execution_count": 19,
   "metadata": {
    "tags": [
     "hide-cell"
    ]
   },
   "outputs": [],
   "source": [
    "# Solution\n",
    "\n",
    "# This is what most people will probably do\n",
    "\n",
    "query = \"\"\"SELECT TOP 10\n",
    "source_id, ref_epoch, ra, dec, parallax\n",
    "FROM gaiadr2.gaia_source\n",
    "WHERE parallax < 1 \n",
    "  AND bp_rp > -0.75 AND bp_rp < 2\n",
    "\"\"\""
   ]
  },
  {
   "cell_type": "code",
   "execution_count": 20,
   "metadata": {
    "tags": [
     "hide-cell"
    ]
   },
   "outputs": [],
   "source": [
    "# Solution\n",
    "\n",
    "# But if someone notices the BETWEEN operator, \n",
    "# they might do this\n",
    "\n",
    "query = \"\"\"SELECT TOP 10\n",
    "source_id, ref_epoch, ra, dec, parallax\n",
    "FROM gaiadr2.gaia_source\n",
    "WHERE parallax < 1 \n",
    "  AND bp_rp BETWEEN -0.75 AND 2\n",
    "\"\"\""
   ]
  },
  {
   "cell_type": "markdown",
   "metadata": {},
   "source": [
    "This [Hertzsprung-Russell diagram](https://sci.esa.int/web/gaia/-/60198-gaia-hertzsprung-russell-diagram) shows the BP-RP color and luminosity of stars in the Gaia catalog.\n",
    "\n",
    "Selecting stars with `bp-rp` less than 2 excludes many [class M dwarf stars](https://xkcd.com/2360/), which are low temperature, low luminosity.  A star like that at GD-1's distance would be hard to detect, so if it is detected, it it more likely to be in the foreground."
   ]
  },
  {
   "cell_type": "markdown",
   "metadata": {},
   "source": [
    "## Cleaning up\n",
    "\n",
    "Asynchronous jobs have a `jobid`."
   ]
  },
  {
   "cell_type": "code",
   "execution_count": 21,
   "metadata": {},
   "outputs": [
    {
     "data": {
      "text/plain": [
       "(None, '1605622934969O')"
      ]
     },
     "execution_count": 21,
     "metadata": {},
     "output_type": "execute_result"
    }
   ],
   "source": [
    "job1.jobid, job2.jobid"
   ]
  },
  {
   "cell_type": "markdown",
   "metadata": {},
   "source": [
    "Which you can use to remove the job from the server."
   ]
  },
  {
   "cell_type": "code",
   "execution_count": 22,
   "metadata": {
    "scrolled": true
   },
   "outputs": [
    {
     "name": "stdout",
     "output_type": "stream",
     "text": [
      "Removed jobs: '['1605622934969O']'.\n"
     ]
    }
   ],
   "source": [
    "Gaia.remove_jobs([job2.jobid])"
   ]
  },
  {
   "cell_type": "markdown",
   "metadata": {},
   "source": [
    "If you don't remove it job from the server, it will be removed eventually, so don't feel too bad if you don't clean up after yourself."
   ]
  },
  {
   "cell_type": "markdown",
   "metadata": {},
   "source": [
    "## Formatting queries\n",
    "\n",
    "So far the queries have been string \"literals\", meaning that the entire string is part of the program.\n",
    "But writing queries yourself can be slow, repetitive, and error-prone.\n",
    "\n",
    "It is often a good idea to write Python code that assembles a query for you.  One useful tool for that is the [string `format` method](https://www.w3schools.com/python/ref_string_format.asp).\n",
    "\n",
    "As an example, we'll divide the previous query into two parts; a list of column names and a \"base\" for the query that contains everything except the column names.\n",
    "\n",
    "Here's the list of columns we'll select.  "
   ]
  },
  {
   "cell_type": "code",
   "execution_count": 23,
   "metadata": {},
   "outputs": [],
   "source": [
    "columns = 'source_id, ra, dec, pmra, pmdec, parallax, parallax_error, radial_velocity'"
   ]
  },
  {
   "cell_type": "markdown",
   "metadata": {},
   "source": [
    "And here's the base; it's a string that contains at least one format specifier in curly brackets (braces)."
   ]
  },
  {
   "cell_type": "code",
   "execution_count": 24,
   "metadata": {},
   "outputs": [],
   "source": [
    "query3_base = \"\"\"SELECT TOP 10 \n",
    "{columns}\n",
    "FROM gaiadr2.gaia_source\n",
    "WHERE parallax < 1\n",
    "  AND bp_rp BETWEEN -0.75 AND 2\n",
    "\"\"\""
   ]
  },
  {
   "cell_type": "markdown",
   "metadata": {},
   "source": [
    "This base query contains one format specifier, `{columns}`, which is a placeholder for the list of column names we will provide.\n",
    "\n",
    "To assemble the query, we invoke `format` on the base string and provide a keyword argument that assigns a value to `columns`."
   ]
  },
  {
   "cell_type": "code",
   "execution_count": 25,
   "metadata": {},
   "outputs": [],
   "source": [
    "query3 = query3_base.format(columns=columns)"
   ]
  },
  {
   "cell_type": "markdown",
   "metadata": {},
   "source": [
    "The result is a string with line breaks.  If you display it, the line breaks appear as `\\n`."
   ]
  },
  {
   "cell_type": "code",
   "execution_count": 26,
   "metadata": {},
   "outputs": [
    {
     "data": {
      "text/plain": [
       "'SELECT TOP 10 \\nsource_id, ra, dec, pmra, pmdec, parallax, parallax_error, radial_velocity\\nFROM gaiadr2.gaia_source\\nWHERE parallax < 1\\n  AND bp_rp BETWEEN -0.75 AND 2\\n'"
      ]
     },
     "execution_count": 26,
     "metadata": {},
     "output_type": "execute_result"
    }
   ],
   "source": [
    "query3"
   ]
  },
  {
   "cell_type": "markdown",
   "metadata": {},
   "source": [
    "But if you print it, the line breaks appear as... line breaks."
   ]
  },
  {
   "cell_type": "code",
   "execution_count": 27,
   "metadata": {},
   "outputs": [
    {
     "name": "stdout",
     "output_type": "stream",
     "text": [
      "SELECT TOP 10 \n",
      "source_id, ra, dec, pmra, pmdec, parallax, parallax_error, radial_velocity\n",
      "FROM gaiadr2.gaia_source\n",
      "WHERE parallax < 1\n",
      "  AND bp_rp BETWEEN -0.75 AND 2\n",
      "\n"
     ]
    }
   ],
   "source": [
    "print(query3)"
   ]
  },
  {
   "cell_type": "markdown",
   "metadata": {},
   "source": [
    "Notice that the format specifier has been replaced with the value of `columns`.\n",
    "\n",
    "Let's run it and see if it works:"
   ]
  },
  {
   "cell_type": "code",
   "execution_count": 28,
   "metadata": {
    "scrolled": true
   },
   "outputs": [
    {
     "name": "stdout",
     "output_type": "stream",
     "text": [
      "<Table length=10>\n",
      "      name       dtype    unit                              description                             n_bad\n",
      "--------------- ------- -------- ------------------------------------------------------------------ -----\n",
      "      source_id   int64          Unique source identifier (unique within a particular Data Release)     0\n",
      "             ra float64      deg                                                    Right ascension     0\n",
      "            dec float64      deg                                                        Declination     0\n",
      "           pmra float64 mas / yr                         Proper motion in right ascension direction     0\n",
      "          pmdec float64 mas / yr                             Proper motion in declination direction     0\n",
      "       parallax float64      mas                                                           Parallax     0\n",
      " parallax_error float64      mas                                         Standard error of parallax     0\n",
      "radial_velocity float64   km / s                                                    Radial velocity    10\n",
      "Jobid: None\n",
      "Phase: COMPLETED\n",
      "Owner: None\n",
      "Output file: sync_20201117092220.xml.gz\n",
      "Results: None\n"
     ]
    }
   ],
   "source": [
    "job3 = Gaia.launch_job(query3)\n",
    "print(job3)"
   ]
  },
  {
   "cell_type": "code",
   "execution_count": 29,
   "metadata": {},
   "outputs": [
    {
     "data": {
      "text/html": [
       "<i>Table length=10</i>\n",
       "<table id=\"table139709417540336\" class=\"table-striped table-bordered table-condensed\">\n",
       "<thead><tr><th>source_id</th><th>ra</th><th>dec</th><th>pmra</th><th>pmdec</th><th>parallax</th><th>parallax_error</th><th>radial_velocity</th></tr></thead>\n",
       "<thead><tr><th></th><th>deg</th><th>deg</th><th>mas / yr</th><th>mas / yr</th><th>mas</th><th>mas</th><th>km / s</th></tr></thead>\n",
       "<thead><tr><th>int64</th><th>float64</th><th>float64</th><th>float64</th><th>float64</th><th>float64</th><th>float64</th><th>float64</th></tr></thead>\n",
       "<tr><td>6230144152145537152</td><td>221.00484394613122</td><td>-23.650193344617016</td><td>-3.5074596301747727</td><td>-10.224921783269979</td><td>0.4472611806640159</td><td>0.1288335146382159</td><td>--</td></tr>\n",
       "<tr><td>6230171669999288192</td><td>222.11986606839224</td><td>-24.50411126495661</td><td>-3.5454562059199444</td><td>-4.5898956770256065</td><td>0.01235077758559544</td><td>0.6798312067588314</td><td>--</td></tr>\n",
       "<tr><td>6230030795072008832</td><td>220.6858032920676</td><td>-24.529155332809893</td><td>-7.395300108444131</td><td>-2.3509644395754723</td><td>0.9192193090012722</td><td>1.011426390802751</td><td>--</td></tr>\n",
       "<tr><td>6230121401702753664</td><td>220.2681390809788</td><td>-23.90595652859401</td><td>-0.9310688845911029</td><td>-4.850975141945376</td><td>0.7892660162616956</td><td>0.612231874239708</td><td>--</td></tr>\n",
       "<tr><td>6229987570521485440</td><td>219.69736802123325</td><td>-24.463333246855726</td><td>-1.2742408484284249</td><td>-3.404899385900498</td><td>0.2215366853699605</td><td>0.21596169286289862</td><td>--</td></tr>\n",
       "<tr><td>6230018425567339520</td><td>220.1035725206795</td><td>-24.23214642244001</td><td>3.5001851583023207</td><td>-7.522436158423504</td><td>0.10694586740680614</td><td>0.8296685650840913</td><td>--</td></tr>\n",
       "<tr><td>6230130266515510528</td><td>220.4226870525988</td><td>-23.73255151335769</td><td>-2.363789876365865</td><td>-4.703438038908609</td><td>0.3047725187302132</td><td>0.2970783741597157</td><td>--</td></tr>\n",
       "<tr><td>6230061757492831616</td><td>221.17289130564805</td><td>-24.25689151102804</td><td>-2.857319870871607</td><td>-3.3752756010215696</td><td>0.5718461700819417</td><td>0.08382745553667581</td><td>--</td></tr>\n",
       "<tr><td>2003409519814774528</td><td>339.93278128584706</td><td>54.693746629826066</td><td>-4.309526744320447</td><td>-4.179418290817069</td><td>-0.03422181968448189</td><td>0.16657261834688394</td><td>--</td></tr>\n",
       "<tr><td>2003390901139218816</td><td>338.7103475641665</td><td>54.842371081247144</td><td>0.9558208039434155</td><td>-3.918955387981184</td><td>0.7072974894588037</td><td>0.4296262772904238</td><td>--</td></tr>\n",
       "</table>"
      ],
      "text/plain": [
       "<Table length=10>\n",
       "     source_id              ra         ...    parallax_error   radial_velocity\n",
       "                           deg         ...         mas              km / s    \n",
       "       int64             float64       ...       float64           float64    \n",
       "------------------- ------------------ ... ------------------- ---------------\n",
       "6230144152145537152 221.00484394613122 ...  0.1288335146382159              --\n",
       "6230171669999288192 222.11986606839224 ...  0.6798312067588314              --\n",
       "6230030795072008832  220.6858032920676 ...   1.011426390802751              --\n",
       "6230121401702753664  220.2681390809788 ...   0.612231874239708              --\n",
       "6229987570521485440 219.69736802123325 ... 0.21596169286289862              --\n",
       "6230018425567339520  220.1035725206795 ...  0.8296685650840913              --\n",
       "6230130266515510528  220.4226870525988 ...  0.2970783741597157              --\n",
       "6230061757492831616 221.17289130564805 ... 0.08382745553667581              --\n",
       "2003409519814774528 339.93278128584706 ... 0.16657261834688394              --\n",
       "2003390901139218816  338.7103475641665 ...  0.4296262772904238              --"
      ]
     },
     "execution_count": 29,
     "metadata": {},
     "output_type": "execute_result"
    }
   ],
   "source": [
    "results3 = job3.get_results()\n",
    "results3"
   ]
  },
  {
   "cell_type": "markdown",
   "metadata": {},
   "source": [
    "Good so far."
   ]
  },
  {
   "cell_type": "markdown",
   "metadata": {},
   "source": [
    "**Exercise:** This query always selects sources with `parallax` less than 1.  But suppose you want to take that upper bound as an input.\n",
    "\n",
    "Modify `query3_base` to replace `1` with a format specifier like `{max_parallax}`.  Now, when you call `format`, add a keyword argument that assigns a value to `max_parallax`, and confirm that the format specifier gets replaced with the value you provide."
   ]
  },
  {
   "cell_type": "code",
   "execution_count": 30,
   "metadata": {
    "tags": [
     "hide-cell"
    ]
   },
   "outputs": [],
   "source": [
    "# Solution\n",
    "\n",
    "query4_base = \"\"\"SELECT TOP 10\n",
    "{columns}\n",
    "FROM gaiadr2.gaia_source\n",
    "WHERE parallax < {max_parallax} AND \n",
    "bp_rp BETWEEN -0.75 AND 2\n",
    "\"\"\""
   ]
  },
  {
   "cell_type": "code",
   "execution_count": 31,
   "metadata": {
    "tags": [
     "hide-cell"
    ]
   },
   "outputs": [
    {
     "name": "stdout",
     "output_type": "stream",
     "text": [
      "SELECT TOP 10\n",
      "source_id, ref_epoch, ra, dec, parallax\n",
      "FROM gaiadr2.gaia_source\n",
      "WHERE parallax < 1 \n",
      "  AND bp_rp BETWEEN -0.75 AND 2\n",
      "\n"
     ]
    }
   ],
   "source": [
    "# Solution\n",
    "\n",
    "query4 = query4_base.format(columns=columns,\n",
    "                          max_parallax=0.5)\n",
    "print(query)"
   ]
  },
  {
   "cell_type": "markdown",
   "metadata": {},
   "source": [
    "**Style note:**  You might notice that the variable names in this notebook are numbered, like `query1`, `query2`, etc.  \n",
    "\n",
    "The advantage of this style is that it isolates each section of the notebook from the others, so if you go back and run the cells out of order, it's less likely that you will get unexpected interactions.\n",
    "\n",
    "A drawback of this style is that it can be a nuisance to update the notebook if you add, remove, or reorder a section.\n",
    "\n",
    "What do you think of this choice?  Are there alternatives you prefer?"
   ]
  },
  {
   "cell_type": "markdown",
   "metadata": {},
   "source": [
    "## Summary\n",
    "\n",
    "This notebook demonstrates the following steps:\n",
    "\n",
    "1. Making a connection to the Gaia server,\n",
    "\n",
    "2. Exploring information about the database and the tables it contains,\n",
    "\n",
    "3. Writing a query and sending it to the server, and finally\n",
    "\n",
    "4. Downloading the response from the server as an Astropy `Table`."
   ]
  },
  {
   "cell_type": "markdown",
   "metadata": {},
   "source": [
    "## Best practices\n",
    "\n",
    "* If you can't download an entire dataset (or it's not practical) use queries to select the data you need.\n",
    "\n",
    "* Read the metadata and the documentation to make sure you understand the tables, their columns, and what they mean.\n",
    "\n",
    "* Develop queries incrementally: start with something simple, test it, and add a little bit at a time.\n",
    "\n",
    "* Use ADQL features like `TOP` and `COUNT` to test before you run a query that might return a lot of data.\n",
    "\n",
    "* If you know your query will return fewer than 3000 rows, you can run it synchronously, which might complete faster (but it doesn't seem to make much difference).  If it might return more than 3000 rows, you should run it asynchronously.\n",
    "\n",
    "* ADQL and SQL are not case-sensitive, so you don't have to capitalize the keywords, but you should.\n",
    "\n",
    "* ADQL and SQL don't require you to break a query into multiple lines, but you should.\n"
   ]
  },
  {
   "cell_type": "markdown",
   "metadata": {},
   "source": [
    "Jupyter notebooks can be good for developing and testing code, but they have some drawbacks.  In particular, if you run the cells out of order, you might find that variables don't have the values you expect.\n",
    "\n",
    "There are a few things you can do to mitigate these problems:\n",
    "\n",
    "* Make each section of the notebook self-contained.  Try not to use the same variable name in more than one section.\n",
    "\n",
    "* Keep notebooks short.  Look for places where you can break your analysis into phases with one notebook per phase."
   ]
  },
  {
   "cell_type": "raw",
   "metadata": {},
   "source": []
  }
 ],
 "metadata": {
  "celltoolbar": "Tags",
  "kernelspec": {
   "display_name": "Python 3",
   "language": "python",
   "name": "python3"
  },
  "language_info": {
   "codemirror_mode": {
    "name": "ipython",
    "version": 3
   },
   "file_extension": ".py",
   "mimetype": "text/x-python",
   "name": "python",
   "nbconvert_exporter": "python",
   "pygments_lexer": "ipython3",
   "version": "3.8.5"
  }
 },
 "nbformat": 4,
 "nbformat_minor": 2
}
