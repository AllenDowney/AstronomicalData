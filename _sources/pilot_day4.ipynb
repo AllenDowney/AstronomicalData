{
 "cells": [
  {
   "cell_type": "code",
   "execution_count": 2,
   "metadata": {},
   "outputs": [],
   "source": [
    "import pandas as pd\n",
    "\n",
    "filename = 'gd1_candidates.hdf5'\n",
    "candidate_df = pd.read_hdf(filename, 'candidate_df')"
   ]
  },
  {
   "cell_type": "code",
   "execution_count": 4,
   "metadata": {},
   "outputs": [
    {
     "data": {
      "text/plain": [
       "astropy.table.table.Table"
      ]
     },
     "execution_count": 4,
     "metadata": {},
     "output_type": "execute_result"
    }
   ],
   "source": [
    "from astropy.table import Table\n",
    "\n",
    "candidate_table = Table.from_pandas(candidate_df)\n",
    "type(candidate_table)"
   ]
  },
  {
   "cell_type": "code",
   "execution_count": 5,
   "metadata": {},
   "outputs": [],
   "source": [
    "table = candidate_table[['source_id']]\n",
    "table.write('candidate_df.xml', format='votable', overwrite=True)"
   ]
  },
  {
   "cell_type": "code",
   "execution_count": 17,
   "metadata": {},
   "outputs": [],
   "source": [
    "query = \"\"\"SELECT *\n",
    "FROM gaiadr2.panstarrs1_best_neighbour as best\n",
    "JOIN tap_upload.candidate_df as candidate_df\n",
    "ON best.source_id = candidate_df.source_id\n",
    "\"\"\""
   ]
  },
  {
   "cell_type": "code",
   "execution_count": 18,
   "metadata": {},
   "outputs": [
    {
     "name": "stdout",
     "output_type": "stream",
     "text": [
      "INFO: Query finished. [astroquery.utils.tap.core]\n"
     ]
    }
   ],
   "source": [
    "from astroquery.gaia import Gaia\n",
    "\n",
    "job = Gaia.launch_job_async(query=query, \n",
    "                            upload_resource='candidate_df.xml', \n",
    "                            upload_table_name='candidate_df')"
   ]
  },
  {
   "cell_type": "code",
   "execution_count": 19,
   "metadata": {},
   "outputs": [
    {
     "data": {
      "text/html": [
       "<i>Table length=3724</i>\n",
       "<table id=\"table140617109298384\" class=\"table-striped table-bordered table-condensed\">\n",
       "<thead><tr><th>source_id</th><th>original_ext_source_id</th><th>angular_distance</th><th>number_of_neighbours</th><th>number_of_mates</th><th>best_neighbour_multiplicity</th><th>gaia_astrometric_params</th><th>source_id_2</th></tr></thead>\n",
       "<thead><tr><th></th><th></th><th>arcsec</th><th></th><th></th><th></th><th></th><th></th></tr></thead>\n",
       "<thead><tr><th>int64</th><th>int64</th><th>float64</th><th>int32</th><th>int16</th><th>int16</th><th>int16</th><th>int64</th></tr></thead>\n",
       "<tr><td>635860218726658176</td><td>130911385187671349</td><td>0.053667035895467084</td><td>1</td><td>0</td><td>1</td><td>5</td><td>635860218726658176</td></tr>\n",
       "<tr><td>635674126383965568</td><td>130831388428488720</td><td>0.038810268141577516</td><td>1</td><td>0</td><td>1</td><td>5</td><td>635674126383965568</td></tr>\n",
       "<tr><td>635535454774983040</td><td>130631378377657369</td><td>0.034323028828991076</td><td>1</td><td>0</td><td>1</td><td>5</td><td>635535454774983040</td></tr>\n",
       "<tr><td>635497276810313600</td><td>130811380445631930</td><td>0.04720255413250006</td><td>1</td><td>0</td><td>1</td><td>5</td><td>635497276810313600</td></tr>\n",
       "<tr><td>635614168640132864</td><td>130571395922140135</td><td>0.020304189709964143</td><td>1</td><td>0</td><td>1</td><td>5</td><td>635614168640132864</td></tr>\n",
       "<tr><td>635598607974369792</td><td>130341392091279513</td><td>0.036524626853403054</td><td>1</td><td>0</td><td>1</td><td>5</td><td>635598607974369792</td></tr>\n",
       "<tr><td>635737661835496576</td><td>131001399333502136</td><td>0.036626827820716606</td><td>1</td><td>0</td><td>1</td><td>5</td><td>635737661835496576</td></tr>\n",
       "<tr><td>635850945892748672</td><td>132011398654934147</td><td>0.021178742393378396</td><td>1</td><td>0</td><td>1</td><td>5</td><td>635850945892748672</td></tr>\n",
       "<tr><td>635600532119713664</td><td>130421392285893623</td><td>0.04518820915043015</td><td>1</td><td>0</td><td>1</td><td>5</td><td>635600532119713664</td></tr>\n",
       "<tr><td>...</td><td>...</td><td>...</td><td>...</td><td>...</td><td>...</td><td>...</td><td>...</td></tr>\n",
       "<tr><td>612241781249124608</td><td>129751343755995561</td><td>0.04235715830001815</td><td>1</td><td>0</td><td>1</td><td>5</td><td>612241781249124608</td></tr>\n",
       "<tr><td>612332147361443072</td><td>130141341458538777</td><td>0.02265249859012977</td><td>1</td><td>0</td><td>1</td><td>5</td><td>612332147361443072</td></tr>\n",
       "<tr><td>612426744016802432</td><td>130521346852465656</td><td>0.03247653009961843</td><td>1</td><td>0</td><td>1</td><td>5</td><td>612426744016802432</td></tr>\n",
       "<tr><td>612331739340341760</td><td>130111341217793839</td><td>0.036064240818025735</td><td>1</td><td>0</td><td>1</td><td>5</td><td>612331739340341760</td></tr>\n",
       "<tr><td>612282738058264960</td><td>129741340445933519</td><td>0.025293237353496898</td><td>1</td><td>0</td><td>1</td><td>5</td><td>612282738058264960</td></tr>\n",
       "<tr><td>612386332668697600</td><td>130351354570219774</td><td>0.02010316001403086</td><td>1</td><td>0</td><td>1</td><td>5</td><td>612386332668697600</td></tr>\n",
       "<tr><td>612296172717818624</td><td>129691338006168780</td><td>0.051264212025836205</td><td>1</td><td>0</td><td>1</td><td>5</td><td>612296172717818624</td></tr>\n",
       "<tr><td>612250375480101760</td><td>129741346475897464</td><td>0.031783740347530905</td><td>1</td><td>0</td><td>1</td><td>5</td><td>612250375480101760</td></tr>\n",
       "<tr><td>612394926899159168</td><td>130581355199751795</td><td>0.04019174830546698</td><td>1</td><td>0</td><td>1</td><td>5</td><td>612394926899159168</td></tr>\n",
       "<tr><td>612256418500423168</td><td>129931349075297310</td><td>0.009242789669513156</td><td>1</td><td>0</td><td>1</td><td>5</td><td>612256418500423168</td></tr>\n",
       "</table>"
      ],
      "text/plain": [
       "<Table length=3724>\n",
       "    source_id      original_ext_source_id ...    source_id_2    \n",
       "                                          ...                   \n",
       "      int64                int64          ...       int64       \n",
       "------------------ ---------------------- ... ------------------\n",
       "635860218726658176     130911385187671349 ... 635860218726658176\n",
       "635674126383965568     130831388428488720 ... 635674126383965568\n",
       "635535454774983040     130631378377657369 ... 635535454774983040\n",
       "635497276810313600     130811380445631930 ... 635497276810313600\n",
       "635614168640132864     130571395922140135 ... 635614168640132864\n",
       "635598607974369792     130341392091279513 ... 635598607974369792\n",
       "635737661835496576     131001399333502136 ... 635737661835496576\n",
       "635850945892748672     132011398654934147 ... 635850945892748672\n",
       "635600532119713664     130421392285893623 ... 635600532119713664\n",
       "               ...                    ... ...                ...\n",
       "612241781249124608     129751343755995561 ... 612241781249124608\n",
       "612332147361443072     130141341458538777 ... 612332147361443072\n",
       "612426744016802432     130521346852465656 ... 612426744016802432\n",
       "612331739340341760     130111341217793839 ... 612331739340341760\n",
       "612282738058264960     129741340445933519 ... 612282738058264960\n",
       "612386332668697600     130351354570219774 ... 612386332668697600\n",
       "612296172717818624     129691338006168780 ... 612296172717818624\n",
       "612250375480101760     129741346475897464 ... 612250375480101760\n",
       "612394926899159168     130581355199751795 ... 612394926899159168\n",
       "612256418500423168     129931349075297310 ... 612256418500423168"
      ]
     },
     "execution_count": 19,
     "metadata": {},
     "output_type": "execute_result"
    }
   ],
   "source": [
    "results = job.get_results()\n",
    "results"
   ]
  },
  {
   "cell_type": "code",
   "execution_count": 21,
   "metadata": {},
   "outputs": [],
   "source": [
    "table_ext = results[['source_id', 'original_ext_source_id']]\n",
    "table_ext.write('external.xml', format='votable', overwrite=True)"
   ]
  },
  {
   "cell_type": "code",
   "execution_count": 22,
   "metadata": {},
   "outputs": [],
   "source": [
    "query2 = \"\"\"SELECT\n",
    "external.source_id, ps.g_mean_psf_mag, ps.i_mean_psf_mag\n",
    "FROM gaiadr2.panstarrs1_original_valid as ps\n",
    "JOIN tap_upload.external as external\n",
    "ON ps.obj_id = external.original_ext_source_id\n",
    "\"\"\""
   ]
  },
  {
   "cell_type": "code",
   "execution_count": 23,
   "metadata": {},
   "outputs": [
    {
     "name": "stdout",
     "output_type": "stream",
     "text": [
      "INFO: Query finished. [astroquery.utils.tap.core]\n"
     ]
    }
   ],
   "source": [
    "job2 = Gaia.launch_job_async(query=query2, \n",
    "                       upload_resource='external.xml', \n",
    "                       upload_table_name='external')"
   ]
  },
  {
   "cell_type": "code",
   "execution_count": 24,
   "metadata": {},
   "outputs": [
    {
     "data": {
      "text/html": [
       "<i>Table length=3724</i>\n",
       "<table id=\"table140617116979696\" class=\"table-striped table-bordered table-condensed\">\n",
       "<thead><tr><th>source_id</th><th>g_mean_psf_mag</th><th>i_mean_psf_mag</th></tr></thead>\n",
       "<thead><tr><th></th><th></th><th>mag</th></tr></thead>\n",
       "<thead><tr><th>int64</th><th>float64</th><th>float64</th></tr></thead>\n",
       "<tr><td>635860218726658176</td><td>17.8978004455566</td><td>17.5174007415771</td></tr>\n",
       "<tr><td>635674126383965568</td><td>19.2873001098633</td><td>17.6781005859375</td></tr>\n",
       "<tr><td>635535454774983040</td><td>16.9237995147705</td><td>16.478099822998</td></tr>\n",
       "<tr><td>635497276810313600</td><td>19.9242000579834</td><td>18.3339996337891</td></tr>\n",
       "<tr><td>635614168640132864</td><td>16.1515998840332</td><td>14.6662998199463</td></tr>\n",
       "<tr><td>635598607974369792</td><td>16.5223999023438</td><td>16.1375007629395</td></tr>\n",
       "<tr><td>635737661835496576</td><td>14.5032997131348</td><td>13.9849004745483</td></tr>\n",
       "<tr><td>635850945892748672</td><td>16.5174999237061</td><td>16.0450000762939</td></tr>\n",
       "<tr><td>635600532119713664</td><td>20.4505996704102</td><td>19.5177001953125</td></tr>\n",
       "<tr><td>...</td><td>...</td><td>...</td></tr>\n",
       "<tr><td>612241781249124608</td><td>20.2343997955322</td><td>18.6518001556396</td></tr>\n",
       "<tr><td>612332147361443072</td><td>21.3848991394043</td><td>20.3076000213623</td></tr>\n",
       "<tr><td>612426744016802432</td><td>17.8281002044678</td><td>17.4281005859375</td></tr>\n",
       "<tr><td>612331739340341760</td><td>21.8656997680664</td><td>19.5223007202148</td></tr>\n",
       "<tr><td>612282738058264960</td><td>22.5151996612549</td><td>19.9743995666504</td></tr>\n",
       "<tr><td>612386332668697600</td><td>19.3792991638184</td><td>17.9923000335693</td></tr>\n",
       "<tr><td>612296172717818624</td><td>17.4944000244141</td><td>16.926700592041</td></tr>\n",
       "<tr><td>612250375480101760</td><td>15.3330001831055</td><td>14.6280002593994</td></tr>\n",
       "<tr><td>612394926899159168</td><td>16.4414005279541</td><td>15.8212003707886</td></tr>\n",
       "<tr><td>612256418500423168</td><td>20.8715991973877</td><td>19.9612007141113</td></tr>\n",
       "</table>"
      ],
      "text/plain": [
       "<Table length=3724>\n",
       "    source_id       g_mean_psf_mag   i_mean_psf_mag \n",
       "                                          mag       \n",
       "      int64            float64          float64     \n",
       "------------------ ---------------- ----------------\n",
       "635860218726658176 17.8978004455566 17.5174007415771\n",
       "635674126383965568 19.2873001098633 17.6781005859375\n",
       "635535454774983040 16.9237995147705  16.478099822998\n",
       "635497276810313600 19.9242000579834 18.3339996337891\n",
       "635614168640132864 16.1515998840332 14.6662998199463\n",
       "635598607974369792 16.5223999023438 16.1375007629395\n",
       "635737661835496576 14.5032997131348 13.9849004745483\n",
       "635850945892748672 16.5174999237061 16.0450000762939\n",
       "635600532119713664 20.4505996704102 19.5177001953125\n",
       "               ...              ...              ...\n",
       "612241781249124608 20.2343997955322 18.6518001556396\n",
       "612332147361443072 21.3848991394043 20.3076000213623\n",
       "612426744016802432 17.8281002044678 17.4281005859375\n",
       "612331739340341760 21.8656997680664 19.5223007202148\n",
       "612282738058264960 22.5151996612549 19.9743995666504\n",
       "612386332668697600 19.3792991638184 17.9923000335693\n",
       "612296172717818624 17.4944000244141  16.926700592041\n",
       "612250375480101760 15.3330001831055 14.6280002593994\n",
       "612394926899159168 16.4414005279541 15.8212003707886\n",
       "612256418500423168 20.8715991973877 19.9612007141113"
      ]
     },
     "execution_count": 24,
     "metadata": {},
     "output_type": "execute_result"
    }
   ],
   "source": [
    "results2 = job2.get_results()\n",
    "results2"
   ]
  },
  {
   "cell_type": "code",
   "execution_count": 25,
   "metadata": {},
   "outputs": [],
   "source": [
    "filename = 'gd1_photo.fits'\n",
    "results2.write(filename, overwrite=True)"
   ]
  },
  {
   "cell_type": "code",
   "execution_count": null,
   "metadata": {},
   "outputs": [],
   "source": []
  }
 ],
 "metadata": {
  "kernelspec": {
   "display_name": "Python 3",
   "language": "python",
   "name": "python3"
  },
  "language_info": {
   "codemirror_mode": {
    "name": "ipython",
    "version": 3
   },
   "file_extension": ".py",
   "mimetype": "text/x-python",
   "name": "python",
   "nbconvert_exporter": "python",
   "pygments_lexer": "ipython3",
   "version": "3.8.5"
  }
 },
 "nbformat": 4,
 "nbformat_minor": 4
}
