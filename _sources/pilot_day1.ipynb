{
 "cells": [
  {
   "cell_type": "code",
   "execution_count": 1,
   "metadata": {},
   "outputs": [
    {
     "name": "stdout",
     "output_type": "stream",
     "text": [
      "Created TAP+ (v1.2.1) - Connection:\n",
      "\tHost: gea.esac.esa.int\n",
      "\tUse HTTPS: True\n",
      "\tPort: 443\n",
      "\tSSL Port: 443\n",
      "Created TAP+ (v1.2.1) - Connection:\n",
      "\tHost: geadata.esac.esa.int\n",
      "\tUse HTTPS: True\n",
      "\tPort: 443\n",
      "\tSSL Port: 443\n"
     ]
    }
   ],
   "source": [
    "from astroquery.gaia import Gaia"
   ]
  },
  {
   "cell_type": "code",
   "execution_count": 2,
   "metadata": {},
   "outputs": [
    {
     "data": {
      "text/plain": [
       "<astroquery.gaia.core.GaiaClass at 0x7fd23f809850>"
      ]
     },
     "execution_count": 2,
     "metadata": {},
     "output_type": "execute_result"
    }
   ],
   "source": [
    "Gaia"
   ]
  },
  {
   "cell_type": "code",
   "execution_count": 3,
   "metadata": {},
   "outputs": [
    {
     "name": "stdout",
     "output_type": "stream",
     "text": [
      "INFO: Retrieving tables... [astroquery.utils.tap.core]\n",
      "INFO: Parsing tables... [astroquery.utils.tap.core]\n",
      "INFO: Done. [astroquery.utils.tap.core]\n"
     ]
    }
   ],
   "source": [
    "tables = Gaia.load_tables(only_names=True)"
   ]
  },
  {
   "cell_type": "code",
   "execution_count": 4,
   "metadata": {},
   "outputs": [
    {
     "data": {
      "text/plain": [
       "list"
      ]
     },
     "execution_count": 4,
     "metadata": {},
     "output_type": "execute_result"
    }
   ],
   "source": [
    "type(tables)"
   ]
  },
  {
   "cell_type": "code",
   "execution_count": null,
   "metadata": {},
   "outputs": [],
   "source": []
  },
  {
   "cell_type": "code",
   "execution_count": null,
   "metadata": {},
   "outputs": [],
   "source": []
  },
  {
   "cell_type": "code",
   "execution_count": 5,
   "metadata": {},
   "outputs": [
    {
     "name": "stdout",
     "output_type": "stream",
     "text": [
      "external.external.apassdr9\n",
      "external.external.gaiadr2_geometric_distance\n",
      "external.external.galex_ais\n",
      "external.external.ravedr5_com\n",
      "external.external.ravedr5_dr5\n",
      "external.external.ravedr5_gra\n",
      "external.external.ravedr5_on\n",
      "external.external.sdssdr13_photoprimary\n",
      "external.external.skymapperdr1_master\n",
      "external.external.tmass_xsc\n",
      "public.public.hipparcos\n",
      "public.public.hipparcos_newreduction\n",
      "public.public.hubble_sc\n",
      "public.public.igsl_source\n",
      "public.public.igsl_source_catalog_ids\n",
      "public.public.tycho2\n",
      "public.public.dual\n",
      "tap_config.tap_config.coord_sys\n",
      "tap_config.tap_config.properties\n",
      "tap_schema.tap_schema.columns\n",
      "tap_schema.tap_schema.key_columns\n",
      "tap_schema.tap_schema.keys\n",
      "tap_schema.tap_schema.schemas\n",
      "tap_schema.tap_schema.tables\n",
      "gaiadr1.gaiadr1.aux_qso_icrf2_match\n",
      "gaiadr1.gaiadr1.ext_phot_zero_point\n",
      "gaiadr1.gaiadr1.allwise_best_neighbour\n",
      "gaiadr1.gaiadr1.allwise_neighbourhood\n",
      "gaiadr1.gaiadr1.gsc23_best_neighbour\n",
      "gaiadr1.gaiadr1.gsc23_neighbourhood\n",
      "gaiadr1.gaiadr1.ppmxl_best_neighbour\n",
      "gaiadr1.gaiadr1.ppmxl_neighbourhood\n",
      "gaiadr1.gaiadr1.sdss_dr9_best_neighbour\n",
      "gaiadr1.gaiadr1.sdss_dr9_neighbourhood\n",
      "gaiadr1.gaiadr1.tmass_best_neighbour\n",
      "gaiadr1.gaiadr1.tmass_neighbourhood\n",
      "gaiadr1.gaiadr1.ucac4_best_neighbour\n",
      "gaiadr1.gaiadr1.ucac4_neighbourhood\n",
      "gaiadr1.gaiadr1.urat1_best_neighbour\n",
      "gaiadr1.gaiadr1.urat1_neighbourhood\n",
      "gaiadr1.gaiadr1.cepheid\n",
      "gaiadr1.gaiadr1.phot_variable_time_series_gfov\n",
      "gaiadr1.gaiadr1.phot_variable_time_series_gfov_statistical_parameters\n",
      "gaiadr1.gaiadr1.rrlyrae\n",
      "gaiadr1.gaiadr1.variable_summary\n",
      "gaiadr1.gaiadr1.allwise_original_valid\n",
      "gaiadr1.gaiadr1.gsc23_original_valid\n",
      "gaiadr1.gaiadr1.ppmxl_original_valid\n",
      "gaiadr1.gaiadr1.sdssdr9_original_valid\n",
      "gaiadr1.gaiadr1.tmass_original_valid\n",
      "gaiadr1.gaiadr1.ucac4_original_valid\n",
      "gaiadr1.gaiadr1.urat1_original_valid\n",
      "gaiadr1.gaiadr1.gaia_source\n",
      "gaiadr1.gaiadr1.tgas_source\n",
      "gaiadr2.gaiadr2.aux_allwise_agn_gdr2_cross_id\n",
      "gaiadr2.gaiadr2.aux_iers_gdr2_cross_id\n",
      "gaiadr2.gaiadr2.aux_sso_orbit_residuals\n",
      "gaiadr2.gaiadr2.aux_sso_orbits\n",
      "gaiadr2.gaiadr2.dr1_neighbourhood\n",
      "gaiadr2.gaiadr2.allwise_best_neighbour\n",
      "gaiadr2.gaiadr2.allwise_neighbourhood\n",
      "gaiadr2.gaiadr2.apassdr9_best_neighbour\n",
      "gaiadr2.gaiadr2.apassdr9_neighbourhood\n",
      "gaiadr2.gaiadr2.gsc23_best_neighbour\n",
      "gaiadr2.gaiadr2.gsc23_neighbourhood\n",
      "gaiadr2.gaiadr2.hipparcos2_best_neighbour\n",
      "gaiadr2.gaiadr2.hipparcos2_neighbourhood\n",
      "gaiadr2.gaiadr2.panstarrs1_best_neighbour\n",
      "gaiadr2.gaiadr2.panstarrs1_neighbourhood\n",
      "gaiadr2.gaiadr2.ppmxl_best_neighbour\n",
      "gaiadr2.gaiadr2.ppmxl_neighbourhood\n",
      "gaiadr2.gaiadr2.ravedr5_best_neighbour\n",
      "gaiadr2.gaiadr2.ravedr5_neighbourhood\n",
      "gaiadr2.gaiadr2.sdssdr9_best_neighbour\n",
      "gaiadr2.gaiadr2.sdssdr9_neighbourhood\n",
      "gaiadr2.gaiadr2.tmass_best_neighbour\n",
      "gaiadr2.gaiadr2.tmass_neighbourhood\n",
      "gaiadr2.gaiadr2.tycho2_best_neighbour\n",
      "gaiadr2.gaiadr2.tycho2_neighbourhood\n",
      "gaiadr2.gaiadr2.urat1_best_neighbour\n",
      "gaiadr2.gaiadr2.urat1_neighbourhood\n",
      "gaiadr2.gaiadr2.sso_observation\n",
      "gaiadr2.gaiadr2.sso_source\n",
      "gaiadr2.gaiadr2.vari_cepheid\n",
      "gaiadr2.gaiadr2.vari_classifier_class_definition\n",
      "gaiadr2.gaiadr2.vari_classifier_definition\n",
      "gaiadr2.gaiadr2.vari_classifier_result\n",
      "gaiadr2.gaiadr2.vari_long_period_variable\n",
      "gaiadr2.gaiadr2.vari_rotation_modulation\n",
      "gaiadr2.gaiadr2.vari_rrlyrae\n",
      "gaiadr2.gaiadr2.vari_short_timescale\n",
      "gaiadr2.gaiadr2.vari_time_series_statistics\n",
      "gaiadr2.gaiadr2.panstarrs1_original_valid\n",
      "gaiadr2.gaiadr2.gaia_source\n",
      "gaiadr2.gaiadr2.ruwe\n"
     ]
    }
   ],
   "source": [
    "for table in tables:\n",
    "    print(table.get_qualified_name())"
   ]
  },
  {
   "cell_type": "code",
   "execution_count": 6,
   "metadata": {},
   "outputs": [
    {
     "name": "stdout",
     "output_type": "stream",
     "text": [
      "Retrieving table 'gaiadr2.gaia_source'\n",
      "Parsing table 'gaiadr2.gaia_source'...\n",
      "Done.\n"
     ]
    }
   ],
   "source": [
    "meta = Gaia.load_table('gaiadr2.gaia_source')"
   ]
  },
  {
   "cell_type": "code",
   "execution_count": 7,
   "metadata": {},
   "outputs": [
    {
     "data": {
      "text/plain": [
       "<astroquery.utils.tap.model.taptable.TapTableMeta at 0x7fd23e840b80>"
      ]
     },
     "execution_count": 7,
     "metadata": {},
     "output_type": "execute_result"
    }
   ],
   "source": [
    "meta"
   ]
  },
  {
   "cell_type": "code",
   "execution_count": 8,
   "metadata": {},
   "outputs": [
    {
     "name": "stdout",
     "output_type": "stream",
     "text": [
      "TAP Table name: gaiadr2.gaiadr2.gaia_source\n",
      "Description: This table has an entry for every Gaia observed source as listed in the\n",
      "Main Database accumulating catalogue version from which the catalogue\n",
      "release has been generated. It contains the basic source parameters,\n",
      "that is only final data (no epoch data) and no spectra (neither final\n",
      "nor epoch).\n",
      "Num. columns: 96\n"
     ]
    }
   ],
   "source": [
    "print(meta)"
   ]
  },
  {
   "cell_type": "code",
   "execution_count": 9,
   "metadata": {},
   "outputs": [
    {
     "name": "stdout",
     "output_type": "stream",
     "text": [
      "solution_id\n",
      "designation\n",
      "source_id\n",
      "random_index\n",
      "ref_epoch\n",
      "ra\n",
      "ra_error\n",
      "dec\n",
      "dec_error\n",
      "parallax\n",
      "parallax_error\n",
      "parallax_over_error\n",
      "pmra\n",
      "pmra_error\n",
      "pmdec\n",
      "pmdec_error\n",
      "ra_dec_corr\n",
      "ra_parallax_corr\n",
      "ra_pmra_corr\n",
      "ra_pmdec_corr\n",
      "dec_parallax_corr\n",
      "dec_pmra_corr\n",
      "dec_pmdec_corr\n",
      "parallax_pmra_corr\n",
      "parallax_pmdec_corr\n",
      "pmra_pmdec_corr\n",
      "astrometric_n_obs_al\n",
      "astrometric_n_obs_ac\n",
      "astrometric_n_good_obs_al\n",
      "astrometric_n_bad_obs_al\n",
      "astrometric_gof_al\n",
      "astrometric_chi2_al\n",
      "astrometric_excess_noise\n",
      "astrometric_excess_noise_sig\n",
      "astrometric_params_solved\n",
      "astrometric_primary_flag\n",
      "astrometric_weight_al\n",
      "astrometric_pseudo_colour\n",
      "astrometric_pseudo_colour_error\n",
      "mean_varpi_factor_al\n",
      "astrometric_matched_observations\n",
      "visibility_periods_used\n",
      "astrometric_sigma5d_max\n",
      "frame_rotator_object_type\n",
      "matched_observations\n",
      "duplicated_source\n",
      "phot_g_n_obs\n",
      "phot_g_mean_flux\n",
      "phot_g_mean_flux_error\n",
      "phot_g_mean_flux_over_error\n",
      "phot_g_mean_mag\n",
      "phot_bp_n_obs\n",
      "phot_bp_mean_flux\n",
      "phot_bp_mean_flux_error\n",
      "phot_bp_mean_flux_over_error\n",
      "phot_bp_mean_mag\n",
      "phot_rp_n_obs\n",
      "phot_rp_mean_flux\n",
      "phot_rp_mean_flux_error\n",
      "phot_rp_mean_flux_over_error\n",
      "phot_rp_mean_mag\n",
      "phot_bp_rp_excess_factor\n",
      "phot_proc_mode\n",
      "bp_rp\n",
      "bp_g\n",
      "g_rp\n",
      "radial_velocity\n",
      "radial_velocity_error\n",
      "rv_nb_transits\n",
      "rv_template_teff\n",
      "rv_template_logg\n",
      "rv_template_fe_h\n",
      "phot_variable_flag\n",
      "l\n",
      "b\n",
      "ecl_lon\n",
      "ecl_lat\n",
      "priam_flags\n",
      "teff_val\n",
      "teff_percentile_lower\n",
      "teff_percentile_upper\n",
      "a_g_val\n",
      "a_g_percentile_lower\n",
      "a_g_percentile_upper\n",
      "e_bp_min_rp_val\n",
      "e_bp_min_rp_percentile_lower\n",
      "e_bp_min_rp_percentile_upper\n",
      "flame_flags\n",
      "radius_val\n",
      "radius_percentile_lower\n",
      "radius_percentile_upper\n",
      "lum_val\n",
      "lum_percentile_lower\n",
      "lum_percentile_upper\n",
      "datalink_url\n",
      "epoch_photometry_url\n"
     ]
    }
   ],
   "source": [
    "for column in meta.columns:\n",
    "    print(column.name)"
   ]
  },
  {
   "cell_type": "code",
   "execution_count": 10,
   "metadata": {},
   "outputs": [
    {
     "name": "stdout",
     "output_type": "stream",
     "text": [
      "Retrieving table 'gaiadr2.panstarrs1_original_valid'\n",
      "Parsing table 'gaiadr2.panstarrs1_original_valid'...\n",
      "Done.\n"
     ]
    }
   ],
   "source": [
    "meta2 = Gaia.load_table('gaiadr2.panstarrs1_original_valid')"
   ]
  },
  {
   "cell_type": "code",
   "execution_count": 11,
   "metadata": {},
   "outputs": [
    {
     "name": "stdout",
     "output_type": "stream",
     "text": [
      "obj_name\n",
      "obj_id\n",
      "ra\n",
      "dec\n",
      "ra_error\n",
      "dec_error\n",
      "epoch_mean\n",
      "g_mean_psf_mag\n",
      "g_mean_psf_mag_error\n",
      "g_flags\n",
      "r_mean_psf_mag\n",
      "r_mean_psf_mag_error\n",
      "r_flags\n",
      "i_mean_psf_mag\n",
      "i_mean_psf_mag_error\n",
      "i_flags\n",
      "z_mean_psf_mag\n",
      "z_mean_psf_mag_error\n",
      "z_flags\n",
      "y_mean_psf_mag\n",
      "y_mean_psf_mag_error\n",
      "y_flags\n",
      "n_detections\n",
      "zone_id\n",
      "obj_info_flag\n",
      "quality_flag\n"
     ]
    }
   ],
   "source": [
    "for column in meta2.columns:\n",
    "    print(column.name)"
   ]
  },
  {
   "cell_type": "markdown",
   "metadata": {},
   "source": [
    "## Writing queries\n",
    "\n",
    "More text here..."
   ]
  },
  {
   "cell_type": "code",
   "execution_count": 86,
   "metadata": {},
   "outputs": [],
   "source": [
    "columns = 'source_id, ref_epoch, ra, dec, parallax'"
   ]
  },
  {
   "cell_type": "code",
   "execution_count": 87,
   "metadata": {},
   "outputs": [],
   "source": [
    "columns2 = 'source_id, ref_epoch, ra, dec, parallax, parallax_error, radial_velocity'"
   ]
  },
  {
   "cell_type": "code",
   "execution_count": 88,
   "metadata": {},
   "outputs": [],
   "source": [
    "query_base = \"\"\"SELECT\n",
    "TOP 30\n",
    "{columns}\n",
    "FROM gaiadr2.gaia_source\n",
    "WHERE parallax < {max_parallax}\n",
    "  AND bp_rp BETWEEN -0.75 AND 2\n",
    "\"\"\""
   ]
  },
  {
   "cell_type": "code",
   "execution_count": 89,
   "metadata": {},
   "outputs": [],
   "source": [
    "query = query_base.format(columns=columns2, max_parallax=1)"
   ]
  },
  {
   "cell_type": "code",
   "execution_count": 90,
   "metadata": {},
   "outputs": [
    {
     "data": {
      "text/plain": [
       "'SELECT\\nTOP 30\\nsource_id, ref_epoch, ra, dec, parallax, parallax_error, radial_velocity\\nFROM gaiadr2.gaia_source\\nWHERE parallax < 1\\n  AND bp_rp BETWEEN -0.75 AND 2\\n'"
      ]
     },
     "execution_count": 90,
     "metadata": {},
     "output_type": "execute_result"
    }
   ],
   "source": [
    "query"
   ]
  },
  {
   "cell_type": "code",
   "execution_count": 92,
   "metadata": {},
   "outputs": [
    {
     "name": "stdout",
     "output_type": "stream",
     "text": [
      "SELECT\n",
      "TOP 30\n",
      "source_id, ref_epoch, ra, dec, parallax, parallax_error, radial_velocity\n",
      "FROM gaiadr2.gaia_source\n",
      "WHERE parallax < 1\n",
      "  AND bp_rp BETWEEN -0.75 AND 2\n",
      "\n"
     ]
    }
   ],
   "source": [
    "print(query)"
   ]
  },
  {
   "cell_type": "markdown",
   "metadata": {},
   "source": [
    "## Add one thing at a time and test as you go"
   ]
  },
  {
   "cell_type": "code",
   "execution_count": 93,
   "metadata": {},
   "outputs": [
    {
     "name": "stdout",
     "output_type": "stream",
     "text": [
      "INFO: Query finished. [astroquery.utils.tap.core]\n"
     ]
    }
   ],
   "source": [
    "job  = Gaia.launch_job_async(query)"
   ]
  },
  {
   "cell_type": "code",
   "execution_count": 94,
   "metadata": {},
   "outputs": [
    {
     "data": {
      "text/plain": [
       "<astroquery.utils.tap.model.job.Job at 0x7fd23e4cb250>"
      ]
     },
     "execution_count": 94,
     "metadata": {},
     "output_type": "execute_result"
    }
   ],
   "source": [
    "job"
   ]
  },
  {
   "cell_type": "code",
   "execution_count": 95,
   "metadata": {},
   "outputs": [
    {
     "name": "stdout",
     "output_type": "stream",
     "text": [
      "<Table length=30>\n",
      "      name       dtype   unit                             description                             n_bad\n",
      "--------------- ------- ------ ------------------------------------------------------------------ -----\n",
      "      source_id   int64        Unique source identifier (unique within a particular Data Release)     0\n",
      "      ref_epoch float64     yr                                                    Reference epoch     0\n",
      "             ra float64    deg                                                    Right ascension     0\n",
      "            dec float64    deg                                                        Declination     0\n",
      "       parallax float64    mas                                                           Parallax     0\n",
      " parallax_error float64    mas                                         Standard error of parallax     0\n",
      "radial_velocity float64 km / s                                                    Radial velocity    30\n",
      "Jobid: 1605559085364O\n",
      "Phase: COMPLETED\n",
      "Owner: None\n",
      "Output file: async_20201116153805.vot\n",
      "Results: None\n"
     ]
    }
   ],
   "source": [
    "print(job)"
   ]
  },
  {
   "cell_type": "code",
   "execution_count": 96,
   "metadata": {},
   "outputs": [],
   "source": [
    "results = job.get_results()"
   ]
  },
  {
   "cell_type": "code",
   "execution_count": 97,
   "metadata": {},
   "outputs": [
    {
     "data": {
      "text/html": [
       "<i>Table length=30</i>\n",
       "<table id=\"table140540965072960\" class=\"table-striped table-bordered table-condensed\">\n",
       "<thead><tr><th>source_id</th><th>ref_epoch</th><th>ra</th><th>dec</th><th>parallax</th><th>parallax_error</th><th>radial_velocity</th></tr></thead>\n",
       "<thead><tr><th></th><th>yr</th><th>deg</th><th>deg</th><th>mas</th><th>mas</th><th>km / s</th></tr></thead>\n",
       "<thead><tr><th>int64</th><th>float64</th><th>float64</th><th>float64</th><th>float64</th><th>float64</th><th>float64</th></tr></thead>\n",
       "<tr><td>1859772967200548480</td><td>2015.5</td><td>311.7716418009337</td><td>31.60557436984631</td><td>0.7767665671013428</td><td>0.27955289399217836</td><td>--</td></tr>\n",
       "<tr><td>1859782313041944832</td><td>2015.5</td><td>311.17390526154423</td><td>31.258797158719847</td><td>-0.25450688880064243</td><td>0.5006522058606456</td><td>--</td></tr>\n",
       "<tr><td>1859780869933153280</td><td>2015.5</td><td>311.06679375877263</td><td>31.219207019583653</td><td>0.34319978848338417</td><td>0.9313353159918977</td><td>--</td></tr>\n",
       "<tr><td>1859815057881369728</td><td>2015.5</td><td>311.55787663577127</td><td>31.62814807023982</td><td>-1.1955122356250545</td><td>0.7536507995983105</td><td>--</td></tr>\n",
       "<tr><td>1859764720853733504</td><td>2015.5</td><td>311.6968717764019</td><td>31.434121014193668</td><td>-2.4116892107687353</td><td>1.0180585839909577</td><td>--</td></tr>\n",
       "<tr><td>1859760494615052672</td><td>2015.5</td><td>311.7229144199955</td><td>31.344728455960162</td><td>0.33945025045930244</td><td>0.026879108757164063</td><td>--</td></tr>\n",
       "<tr><td>1859773413877146880</td><td>2015.5</td><td>311.8239717687711</td><td>31.5938682761331</td><td>-0.023183552578126928</td><td>0.05352617574037097</td><td>--</td></tr>\n",
       "<tr><td>1859769703016675328</td><td>2015.5</td><td>311.9698646366692</td><td>31.564087117425384</td><td>0.7133302224741606</td><td>0.8298725715561183</td><td>--</td></tr>\n",
       "<tr><td>1859813168089772032</td><td>2015.5</td><td>311.59531018136306</td><td>31.532982947737132</td><td>0.3676714937163033</td><td>0.7347671145224394</td><td>--</td></tr>\n",
       "<tr><td>...</td><td>...</td><td>...</td><td>...</td><td>...</td><td>...</td><td>...</td></tr>\n",
       "<tr><td>1859792341785287808</td><td>2015.5</td><td>311.2492437362059</td><td>31.473206794319317</td><td>0.3304263088856413</td><td>0.13675690977806274</td><td>--</td></tr>\n",
       "<tr><td>1859783408252461056</td><td>2015.5</td><td>311.11804657574396</td><td>31.297510342315928</td><td>0.0746539334379134</td><td>0.37680767316478425</td><td>--</td></tr>\n",
       "<tr><td>1859810281870133120</td><td>2015.5</td><td>311.13172365620215</td><td>31.686981863130708</td><td>0.26853128238207785</td><td>0.4553883976568405</td><td>--</td></tr>\n",
       "<tr><td>1859794815685744640</td><td>2015.5</td><td>310.96367939259284</td><td>31.31718097982628</td><td>-2.992496067633503</td><td>1.1089042277934307</td><td>--</td></tr>\n",
       "<tr><td>1859757677108231424</td><td>2015.5</td><td>311.99649307561697</td><td>31.506728013267534</td><td>0.7281871916676326</td><td>0.7765992662451379</td><td>--</td></tr>\n",
       "<tr><td>1859771146134503680</td><td>2015.5</td><td>311.74605797643176</td><td>31.485773669678412</td><td>0.13099351906829404</td><td>0.6713360113643849</td><td>--</td></tr>\n",
       "<tr><td>1859768667930613760</td><td>2015.5</td><td>311.81939870908116</td><td>31.50296753045608</td><td>0.33351119622751657</td><td>0.20853032024261492</td><td>--</td></tr>\n",
       "<tr><td>1859783687439520384</td><td>2015.5</td><td>311.1026531878309</td><td>31.318830227630794</td><td>0.36306118566694123</td><td>0.059633195646531766</td><td>--</td></tr>\n",
       "<tr><td>1859813885341735296</td><td>2015.5</td><td>311.6205103129279</td><td>31.569289167922214</td><td>-0.07059528156917382</td><td>0.14061938403885946</td><td>--</td></tr>\n",
       "<tr><td>1859777670175822720</td><td>2015.5</td><td>311.12238771094496</td><td>31.20200621855245</td><td>0.062101356212957384</td><td>0.33608219792403937</td><td>--</td></tr>\n",
       "</table>"
      ],
      "text/plain": [
       "<Table length=30>\n",
       "     source_id      ref_epoch ...    parallax_error    radial_velocity\n",
       "                        yr    ...         mas               km / s    \n",
       "       int64         float64  ...       float64            float64    \n",
       "------------------- --------- ... -------------------- ---------------\n",
       "1859772967200548480    2015.5 ...  0.27955289399217836              --\n",
       "1859782313041944832    2015.5 ...   0.5006522058606456              --\n",
       "1859780869933153280    2015.5 ...   0.9313353159918977              --\n",
       "1859815057881369728    2015.5 ...   0.7536507995983105              --\n",
       "1859764720853733504    2015.5 ...   1.0180585839909577              --\n",
       "1859760494615052672    2015.5 ... 0.026879108757164063              --\n",
       "1859773413877146880    2015.5 ...  0.05352617574037097              --\n",
       "1859769703016675328    2015.5 ...   0.8298725715561183              --\n",
       "1859813168089772032    2015.5 ...   0.7347671145224394              --\n",
       "                ...       ... ...                  ...             ...\n",
       "1859792341785287808    2015.5 ...  0.13675690977806274              --\n",
       "1859783408252461056    2015.5 ...  0.37680767316478425              --\n",
       "1859810281870133120    2015.5 ...   0.4553883976568405              --\n",
       "1859794815685744640    2015.5 ...   1.1089042277934307              --\n",
       "1859757677108231424    2015.5 ...   0.7765992662451379              --\n",
       "1859771146134503680    2015.5 ...   0.6713360113643849              --\n",
       "1859768667930613760    2015.5 ...  0.20853032024261492              --\n",
       "1859783687439520384    2015.5 ... 0.059633195646531766              --\n",
       "1859813885341735296    2015.5 ...  0.14061938403885946              --\n",
       "1859777670175822720    2015.5 ...  0.33608219792403937              --"
      ]
     },
     "execution_count": 97,
     "metadata": {},
     "output_type": "execute_result"
    }
   ],
   "source": [
    "results"
   ]
  },
  {
   "cell_type": "code",
   "execution_count": 66,
   "metadata": {},
   "outputs": [
    {
     "data": {
      "text/plain": [
       "astropy.table.table.Table"
      ]
     },
     "execution_count": 66,
     "metadata": {},
     "output_type": "execute_result"
    }
   ],
   "source": [
    "type(results)"
   ]
  },
  {
   "cell_type": "markdown",
   "metadata": {},
   "source": [
    "\n",
    "## Exercise\n",
    "\n",
    "Read about SQL operators\n",
    "\n",
    "https://www.w3schools.com/sql/sql_operators.asp\n",
    "\n",
    "Then modify the previous query to select rows where \n",
    "`bp_rp` is between -0.75 and 2.\n",
    "\n",
    "You can read about this variable at\n",
    "https://gea.esac.esa.int/archive/documentation/GDR2/Gaia_archive/chap_datamodel/sec_dm_main_tables/ssec_dm_gaia_source.html"
   ]
  },
  {
   "cell_type": "code",
   "execution_count": 104,
   "metadata": {},
   "outputs": [
    {
     "data": {
      "text/html": [
       "<div>\n",
       "<style scoped>\n",
       "    .dataframe tbody tr th:only-of-type {\n",
       "        vertical-align: middle;\n",
       "    }\n",
       "\n",
       "    .dataframe tbody tr th {\n",
       "        vertical-align: top;\n",
       "    }\n",
       "\n",
       "    .dataframe thead th {\n",
       "        text-align: right;\n",
       "    }\n",
       "</style>\n",
       "<table border=\"1\" class=\"dataframe\">\n",
       "  <thead>\n",
       "    <tr style=\"text-align: right;\">\n",
       "      <th></th>\n",
       "      <th>a</th>\n",
       "    </tr>\n",
       "  </thead>\n",
       "  <tbody>\n",
       "    <tr>\n",
       "      <th>0</th>\n",
       "      <td>a</td>\n",
       "    </tr>\n",
       "    <tr>\n",
       "      <th>1</th>\n",
       "      <td>a</td>\n",
       "    </tr>\n",
       "    <tr>\n",
       "      <th>2</th>\n",
       "      <td>a</td>\n",
       "    </tr>\n",
       "  </tbody>\n",
       "</table>\n",
       "</div>"
      ],
      "text/plain": [
       "   a\n",
       "0  a\n",
       "1  a\n",
       "2  a"
      ]
     },
     "execution_count": 104,
     "metadata": {},
     "output_type": "execute_result"
    }
   ],
   "source": [
    "import pandas as pd\n",
    "\n",
    "df1 = pd.DataFrame(index=[0, 1, 2])\n",
    "df1['a'] = 'a'\n",
    "df1"
   ]
  },
  {
   "cell_type": "code",
   "execution_count": 105,
   "metadata": {},
   "outputs": [
    {
     "data": {
      "text/html": [
       "<div>\n",
       "<style scoped>\n",
       "    .dataframe tbody tr th:only-of-type {\n",
       "        vertical-align: middle;\n",
       "    }\n",
       "\n",
       "    .dataframe tbody tr th {\n",
       "        vertical-align: top;\n",
       "    }\n",
       "\n",
       "    .dataframe thead th {\n",
       "        text-align: right;\n",
       "    }\n",
       "</style>\n",
       "<table border=\"1\" class=\"dataframe\">\n",
       "  <thead>\n",
       "    <tr style=\"text-align: right;\">\n",
       "      <th></th>\n",
       "      <th>b</th>\n",
       "    </tr>\n",
       "  </thead>\n",
       "  <tbody>\n",
       "    <tr>\n",
       "      <th>0</th>\n",
       "      <td>b</td>\n",
       "    </tr>\n",
       "    <tr>\n",
       "      <th>2</th>\n",
       "      <td>b</td>\n",
       "    </tr>\n",
       "    <tr>\n",
       "      <th>4</th>\n",
       "      <td>b</td>\n",
       "    </tr>\n",
       "  </tbody>\n",
       "</table>\n",
       "</div>"
      ],
      "text/plain": [
       "   b\n",
       "0  b\n",
       "2  b\n",
       "4  b"
      ]
     },
     "execution_count": 105,
     "metadata": {},
     "output_type": "execute_result"
    }
   ],
   "source": [
    "df2 = pd.DataFrame(index=[0, 2, 4])\n",
    "df2['b'] = 'b'\n",
    "df2"
   ]
  },
  {
   "cell_type": "code",
   "execution_count": 108,
   "metadata": {},
   "outputs": [
    {
     "data": {
      "text/html": [
       "<div>\n",
       "<style scoped>\n",
       "    .dataframe tbody tr th:only-of-type {\n",
       "        vertical-align: middle;\n",
       "    }\n",
       "\n",
       "    .dataframe tbody tr th {\n",
       "        vertical-align: top;\n",
       "    }\n",
       "\n",
       "    .dataframe thead th {\n",
       "        text-align: right;\n",
       "    }\n",
       "</style>\n",
       "<table border=\"1\" class=\"dataframe\">\n",
       "  <thead>\n",
       "    <tr style=\"text-align: right;\">\n",
       "      <th></th>\n",
       "      <th>a</th>\n",
       "      <th>b</th>\n",
       "    </tr>\n",
       "  </thead>\n",
       "  <tbody>\n",
       "    <tr>\n",
       "      <th>0</th>\n",
       "      <td>a</td>\n",
       "      <td>b</td>\n",
       "    </tr>\n",
       "    <tr>\n",
       "      <th>1</th>\n",
       "      <td>a</td>\n",
       "      <td>NaN</td>\n",
       "    </tr>\n",
       "    <tr>\n",
       "      <th>2</th>\n",
       "      <td>a</td>\n",
       "      <td>b</td>\n",
       "    </tr>\n",
       "  </tbody>\n",
       "</table>\n",
       "</div>"
      ],
      "text/plain": [
       "   a    b\n",
       "0  a    b\n",
       "1  a  NaN\n",
       "2  a    b"
      ]
     },
     "execution_count": 108,
     "metadata": {},
     "output_type": "execute_result"
    }
   ],
   "source": [
    "df1['b'] = df2['b']\n",
    "df1"
   ]
  },
  {
   "cell_type": "code",
   "execution_count": 109,
   "metadata": {},
   "outputs": [
    {
     "data": {
      "text/plain": [
       "(3, 2)"
      ]
     },
     "execution_count": 109,
     "metadata": {},
     "output_type": "execute_result"
    }
   ],
   "source": [
    "df1.shape"
   ]
  },
  {
   "cell_type": "code",
   "execution_count": 111,
   "metadata": {},
   "outputs": [
    {
     "data": {
      "text/plain": [
       "False"
      ]
     },
     "execution_count": 111,
     "metadata": {},
     "output_type": "execute_result"
    }
   ],
   "source": [
    "df1 is df2"
   ]
  },
  {
   "cell_type": "code",
   "execution_count": null,
   "metadata": {},
   "outputs": [],
   "source": []
  }
 ],
 "metadata": {
  "kernelspec": {
   "display_name": "Python 3",
   "language": "python",
   "name": "python3"
  },
  "language_info": {
   "codemirror_mode": {
    "name": "ipython",
    "version": 3
   },
   "file_extension": ".py",
   "mimetype": "text/x-python",
   "name": "python",
   "nbconvert_exporter": "python",
   "pygments_lexer": "ipython3",
   "version": "3.8.5"
  }
 },
 "nbformat": 4,
 "nbformat_minor": 4
}
